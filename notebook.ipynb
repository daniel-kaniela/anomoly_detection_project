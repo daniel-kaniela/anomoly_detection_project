{
 "cells": [
  {
   "cell_type": "markdown",
   "id": "9e362127",
   "metadata": {},
   "source": [
    "\n",
    "\n",
    "1. Which lesson appears to attract the most traffic consistently across cohorts (per program)?\n",
    "2. Is there a cohort that referred to a lesson significantly more than other cohorts seemed to gloss over?\n",
    "3. Are there students who, when active, hardly access the curriculum? If so, what information do you have about these students?\n",
    "4. Is there any suspicious activity, such as users/machines/etc accessing the curriculum who shouldn’t be? Does it appear that any web-scraping is happening? Are there any suspicious IP addresses?\n",
    "5. At some point in 2019, the ability for students and alumni to access both curriculums (web dev to ds, ds to web dev) should have been shut off. Do you see any evidence of that happening? Did it happen before?\n",
    "6. What topics are grads continuing to reference after graduation and into their jobs (for each program)?\n",
    "7. Which lessons are least accessed?\n",
    "8. Anything else I should be aware of?"
   ]
  },
  {
   "cell_type": "code",
   "execution_count": 1,
   "id": "078f8961",
   "metadata": {},
   "outputs": [],
   "source": [
    "import warnings\n",
    "warnings.filterwarnings(\"ignore\")\n",
    "import matplotlib.pyplot as plt\n",
    "\n",
    "import numpy as np\n",
    "import pandas as pd\n",
    "import seaborn as sns\n",
    "\n",
    "from env import host, user, password\n",
    "\n",
    "# DBSCAN import\n",
    "from sklearn.cluster import DBSCAN\n",
    "\n",
    "import acquire\n",
    "import prepare"
   ]
  },
  {
   "cell_type": "code",
   "execution_count": 2,
   "id": "8be2a953",
   "metadata": {},
   "outputs": [],
   "source": [
    "#acquire sql query\n",
    "df = acquire.acquire()"
   ]
  },
  {
   "cell_type": "code",
   "execution_count": 3,
   "id": "ebc2e1d5",
   "metadata": {},
   "outputs": [],
   "source": [
    "# see prepare for cleaning\n",
    "df = prepare.clean_cohort(df)"
   ]
  },
  {
   "cell_type": "code",
   "execution_count": 4,
   "id": "bbe61d27",
   "metadata": {},
   "outputs": [],
   "source": [
    "# splits our df into a webdev and data science\n",
    "df_wd, df_ds = prepare.program_split(df)"
   ]
  },
  {
   "cell_type": "markdown",
   "id": "e0cfca0a",
   "metadata": {},
   "source": [
    "## Prepare\n",
    "   #### Prepare Summary:\n",
    "   - Acquired data from SQL server and saved locally on csv\n",
    "   - Dropped unecessary columns\n",
    "   - Removed staff from database\n",
    "   - Removed nulls\n",
    "   - Grouped course material into lesson column\n",
    "   - Creatd url and subpath column by removing \\ from path\n",
    "   - Created a counter column to help aid in ip hits\n",
    "   - Split data between df_wd (webdev) & df_ds (data science) "
   ]
  },
  {
   "cell_type": "markdown",
   "id": "9f754277",
   "metadata": {},
   "source": [
    "## 1. Which lesson appears to attract the most traffic consistently across cohorts (per program)?"
   ]
  },
  {
   "cell_type": "markdown",
   "id": "7a288df1",
   "metadata": {},
   "source": [
    "## Data Science Lessons (14 count): (taught to students )\n",
    "- fundamentals\n",
    "- sql\n",
    "- capstones\n",
    "- python\n",
    "- regression'\n",
    "- advanced-topics\n",
    "- classification\n",
    "- distributed-ml\n",
    "- status\n",
    "- clustering\n",
    "- time_series\n",
    "- anomaly\n",
    "- nlp\n",
    "- storytelling\n",
    "\n",
    "## Data Science Not-Lessons (paths that are not curriculum)\n",
    "- pending\n",
    "- appendix"
   ]
  },
  {
   "cell_type": "markdown",
   "id": "6c83b2a8",
   "metadata": {},
   "source": [
    "## Web Dev Lessons:\n",
    "- java\n",
    "- javascript\n",
    "- toc\n",
    "- html-css\n",
    "- spring\n",
    "- jquery\n",
    "- mysql\n",
    "- structure\n",
    "- php\n",
    "- larvel\n",
    "- fundamentals\n",
    "\n",
    "## Web Dev Non-Lesson:\n",
    "- search\n",
    "- index"
   ]
  },
  {
   "cell_type": "code",
   "execution_count": 5,
   "id": "8e15247e",
   "metadata": {},
   "outputs": [
    {
     "data": {
      "text/html": [
       "<div>\n",
       "<style scoped>\n",
       "    .dataframe tbody tr th:only-of-type {\n",
       "        vertical-align: middle;\n",
       "    }\n",
       "\n",
       "    .dataframe tbody tr th {\n",
       "        vertical-align: top;\n",
       "    }\n",
       "\n",
       "    .dataframe thead th {\n",
       "        text-align: right;\n",
       "    }\n",
       "</style>\n",
       "<table border=\"1\" class=\"dataframe\">\n",
       "  <thead>\n",
       "    <tr style=\"text-align: right;\">\n",
       "      <th></th>\n",
       "      <th>user_id</th>\n",
       "    </tr>\n",
       "    <tr>\n",
       "      <th>lesson</th>\n",
       "      <th></th>\n",
       "    </tr>\n",
       "  </thead>\n",
       "  <tbody>\n",
       "    <tr>\n",
       "      <th>fundamentals</th>\n",
       "      <td>16691</td>\n",
       "    </tr>\n",
       "    <tr>\n",
       "      <th>sql</th>\n",
       "      <td>13685</td>\n",
       "    </tr>\n",
       "    <tr>\n",
       "      <th>classification</th>\n",
       "      <td>11841</td>\n",
       "    </tr>\n",
       "    <tr>\n",
       "      <th>python</th>\n",
       "      <td>10492</td>\n",
       "    </tr>\n",
       "    <tr>\n",
       "      <th>pending</th>\n",
       "      <td>8940</td>\n",
       "    </tr>\n",
       "    <tr>\n",
       "      <th>regression</th>\n",
       "      <td>7471</td>\n",
       "    </tr>\n",
       "  </tbody>\n",
       "</table>\n",
       "</div>"
      ],
      "text/plain": [
       "                user_id\n",
       "lesson                 \n",
       "fundamentals      16691\n",
       "sql               13685\n",
       "classification    11841\n",
       "python            10492\n",
       "pending            8940\n",
       "regression         7471"
      ]
     },
     "execution_count": 5,
     "metadata": {},
     "output_type": "execute_result"
    }
   ],
   "source": [
    "# DS Lessons count from top\n",
    "df_ds.groupby('lesson')[['user_id']].agg('count').sort_values(by='user_id', ascending=False).head(6)"
   ]
  },
  {
   "cell_type": "code",
   "execution_count": 6,
   "id": "ad66f783",
   "metadata": {},
   "outputs": [
    {
     "data": {
      "text/html": [
       "<div>\n",
       "<style scoped>\n",
       "    .dataframe tbody tr th:only-of-type {\n",
       "        vertical-align: middle;\n",
       "    }\n",
       "\n",
       "    .dataframe tbody tr th {\n",
       "        vertical-align: top;\n",
       "    }\n",
       "\n",
       "    .dataframe thead th {\n",
       "        text-align: right;\n",
       "    }\n",
       "</style>\n",
       "<table border=\"1\" class=\"dataframe\">\n",
       "  <thead>\n",
       "    <tr style=\"text-align: right;\">\n",
       "      <th></th>\n",
       "      <th>user_id</th>\n",
       "    </tr>\n",
       "    <tr>\n",
       "      <th>lesson</th>\n",
       "      <th></th>\n",
       "    </tr>\n",
       "  </thead>\n",
       "  <tbody>\n",
       "    <tr>\n",
       "      <th>javascript</th>\n",
       "      <td>149227</td>\n",
       "    </tr>\n",
       "    <tr>\n",
       "      <th>java</th>\n",
       "      <td>138797</td>\n",
       "    </tr>\n",
       "    <tr>\n",
       "      <th>html-css</th>\n",
       "      <td>92725</td>\n",
       "    </tr>\n",
       "    <tr>\n",
       "      <th>mysql</th>\n",
       "      <td>71913</td>\n",
       "    </tr>\n",
       "    <tr>\n",
       "      <th>pending</th>\n",
       "      <td>58516</td>\n",
       "    </tr>\n",
       "    <tr>\n",
       "      <th>spring</th>\n",
       "      <td>52344</td>\n",
       "    </tr>\n",
       "  </tbody>\n",
       "</table>\n",
       "</div>"
      ],
      "text/plain": [
       "            user_id\n",
       "lesson             \n",
       "javascript   149227\n",
       "java         138797\n",
       "html-css      92725\n",
       "mysql         71913\n",
       "pending       58516\n",
       "spring        52344"
      ]
     },
     "execution_count": 6,
     "metadata": {},
     "output_type": "execute_result"
    }
   ],
   "source": [
    "# see counts for web dev lessons from top\n",
    "df_wd.groupby('lesson')[['user_id']].agg('count').sort_values(by='user_id', ascending=False).head(6)"
   ]
  },
  {
   "cell_type": "markdown",
   "id": "229dac02",
   "metadata": {},
   "source": [
    "## 5 Most Popular Lessons for Data Science\n",
    "- Fundamentals\n",
    "- SQL\n",
    "- Classfication\n",
    "- Python\n",
    "- Regression\n",
    "\n",
    "\n",
    "\n",
    "## 5 Most Popular Lessons for Web Dev\n",
    "- Javascript\n",
    "- Java\n",
    "- HTML-CSS\n",
    "- MySQL\n",
    "- Spring\n"
   ]
  },
  {
   "cell_type": "markdown",
   "id": "37955297",
   "metadata": {},
   "source": [
    "### 2. Is there a cohort that referred to a lesson significantly more than other cohorts seemed to gloss over?"
   ]
  },
  {
   "cell_type": "code",
   "execution_count": null,
   "id": "900cf995",
   "metadata": {},
   "outputs": [],
   "source": []
  },
  {
   "cell_type": "code",
   "execution_count": null,
   "id": "603db656",
   "metadata": {},
   "outputs": [],
   "source": []
  },
  {
   "cell_type": "code",
   "execution_count": null,
   "id": "02ffc3f2",
   "metadata": {},
   "outputs": [],
   "source": []
  },
  {
   "cell_type": "markdown",
   "id": "0e89f542",
   "metadata": {},
   "source": [
    "### 3. Are there students who, when active, hardly access the curriculum? If so, what information do you have about these students?"
   ]
  },
  {
   "cell_type": "code",
   "execution_count": 7,
   "id": "f2d68fd3",
   "metadata": {},
   "outputs": [
    {
     "data": {
      "text/plain": [
       "'2021-04-21'"
      ]
     },
     "execution_count": 7,
     "metadata": {},
     "output_type": "execute_result"
    }
   ],
   "source": [
    "# the last date stamp from this database is on: \n",
    "df.date.max()"
   ]
  },
  {
   "cell_type": "markdown",
   "id": "5ac1aae9",
   "metadata": {},
   "source": [
    "These 5 cohorts are not fully represented by the dataset as their end date for students is beyond the last entry from this dataset\n",
    "\n",
    "\n",
    "2021-05-04 ---- Kalypso   ----    23691\n",
    "\n",
    "2021-06-08 ---- Luna     ----     16623\n",
    "\n",
    "2021-07-19 ---- Marco    ----     16397\n",
    "\n",
    "2021-09-03 ---- Neptune    ----    7276\n",
    "\n",
    "2021-10-01 ---- Oberon   ----      1672"
   ]
  },
  {
   "cell_type": "markdown",
   "id": "bc755380",
   "metadata": {},
   "source": [
    "### 4. Is there any suspicious activity, such as users/machines/etc accessing the curriculum who shouldn’t be? Does it appear that any web-scraping is happening? Are there any suspicious IP addresses?"
   ]
  },
  {
   "cell_type": "markdown",
   "id": "0703e40a",
   "metadata": {},
   "source": [
    "### 5. At some point in 2019, the ability for students and alumni to access both curriculums (web dev to ds, ds to web dev) should have been shut off. Do you see any evidence of that happening? Did it happen before?"
   ]
  },
  {
   "cell_type": "code",
   "execution_count": 8,
   "id": "7b5ece07",
   "metadata": {},
   "outputs": [
    {
     "data": {
      "text/html": [
       "<div>\n",
       "<style scoped>\n",
       "    .dataframe tbody tr th:only-of-type {\n",
       "        vertical-align: middle;\n",
       "    }\n",
       "\n",
       "    .dataframe tbody tr th {\n",
       "        vertical-align: top;\n",
       "    }\n",
       "\n",
       "    .dataframe thead th {\n",
       "        text-align: right;\n",
       "    }\n",
       "</style>\n",
       "<table border=\"1\" class=\"dataframe\">\n",
       "  <thead>\n",
       "    <tr style=\"text-align: right;\">\n",
       "      <th></th>\n",
       "      <th>time</th>\n",
       "      <th>path</th>\n",
       "      <th>user_id</th>\n",
       "      <th>cohort_id</th>\n",
       "      <th>program_id</th>\n",
       "      <th>ip</th>\n",
       "      <th>name</th>\n",
       "      <th>start_date</th>\n",
       "      <th>end_date</th>\n",
       "      <th>created_at</th>\n",
       "      <th>program</th>\n",
       "      <th>url</th>\n",
       "      <th>subpath</th>\n",
       "      <th>counter</th>\n",
       "      <th>lesson</th>\n",
       "    </tr>\n",
       "    <tr>\n",
       "      <th>date</th>\n",
       "      <th></th>\n",
       "      <th></th>\n",
       "      <th></th>\n",
       "      <th></th>\n",
       "      <th></th>\n",
       "      <th></th>\n",
       "      <th></th>\n",
       "      <th></th>\n",
       "      <th></th>\n",
       "      <th></th>\n",
       "      <th></th>\n",
       "      <th></th>\n",
       "      <th></th>\n",
       "      <th></th>\n",
       "      <th></th>\n",
       "    </tr>\n",
       "  </thead>\n",
       "  <tbody>\n",
       "    <tr>\n",
       "      <th>2019-11-26</th>\n",
       "      <td>10:55:05</td>\n",
       "      <td>javascript-i</td>\n",
       "      <td>476</td>\n",
       "      <td>34.0</td>\n",
       "      <td>3</td>\n",
       "      <td>97.105.19.58</td>\n",
       "      <td>Bayes</td>\n",
       "      <td>2019-08-19</td>\n",
       "      <td>2020-01-30</td>\n",
       "      <td>2019-08-20 14:38:55</td>\n",
       "      <td>data_science</td>\n",
       "      <td>javascript-i</td>\n",
       "      <td>[javascript-i]</td>\n",
       "      <td>1</td>\n",
       "      <td>pending</td>\n",
       "    </tr>\n",
       "    <tr>\n",
       "      <th>2019-11-26</th>\n",
       "      <td>15:32:05</td>\n",
       "      <td>javascript-i/conditionals</td>\n",
       "      <td>472</td>\n",
       "      <td>34.0</td>\n",
       "      <td>3</td>\n",
       "      <td>97.105.19.58</td>\n",
       "      <td>Bayes</td>\n",
       "      <td>2019-08-19</td>\n",
       "      <td>2020-01-30</td>\n",
       "      <td>2019-08-20 14:38:55</td>\n",
       "      <td>data_science</td>\n",
       "      <td>javascript-i</td>\n",
       "      <td>[javascript-i, conditionals]</td>\n",
       "      <td>1</td>\n",
       "      <td>pending</td>\n",
       "    </tr>\n",
       "    <tr>\n",
       "      <th>2019-12-03</th>\n",
       "      <td>10:04:40</td>\n",
       "      <td>javascript-i</td>\n",
       "      <td>467</td>\n",
       "      <td>34.0</td>\n",
       "      <td>3</td>\n",
       "      <td>97.105.19.58</td>\n",
       "      <td>Bayes</td>\n",
       "      <td>2019-08-19</td>\n",
       "      <td>2020-01-30</td>\n",
       "      <td>2019-08-20 14:38:55</td>\n",
       "      <td>data_science</td>\n",
       "      <td>javascript-i</td>\n",
       "      <td>[javascript-i]</td>\n",
       "      <td>1</td>\n",
       "      <td>pending</td>\n",
       "    </tr>\n",
       "    <tr>\n",
       "      <th>2019-12-03</th>\n",
       "      <td>11:49:29</td>\n",
       "      <td>javascript-i</td>\n",
       "      <td>467</td>\n",
       "      <td>34.0</td>\n",
       "      <td>3</td>\n",
       "      <td>97.105.19.58</td>\n",
       "      <td>Bayes</td>\n",
       "      <td>2019-08-19</td>\n",
       "      <td>2020-01-30</td>\n",
       "      <td>2019-08-20 14:38:55</td>\n",
       "      <td>data_science</td>\n",
       "      <td>javascript-i</td>\n",
       "      <td>[javascript-i]</td>\n",
       "      <td>1</td>\n",
       "      <td>pending</td>\n",
       "    </tr>\n",
       "    <tr>\n",
       "      <th>2019-12-14</th>\n",
       "      <td>16:46:24</td>\n",
       "      <td>javascript-i</td>\n",
       "      <td>476</td>\n",
       "      <td>34.0</td>\n",
       "      <td>3</td>\n",
       "      <td>136.50.49.145</td>\n",
       "      <td>Bayes</td>\n",
       "      <td>2019-08-19</td>\n",
       "      <td>2020-01-30</td>\n",
       "      <td>2019-08-20 14:38:55</td>\n",
       "      <td>data_science</td>\n",
       "      <td>javascript-i</td>\n",
       "      <td>[javascript-i]</td>\n",
       "      <td>1</td>\n",
       "      <td>pending</td>\n",
       "    </tr>\n",
       "  </tbody>\n",
       "</table>\n",
       "</div>"
      ],
      "text/plain": [
       "                time                       path  user_id  cohort_id  \\\n",
       "date                                                                  \n",
       "2019-11-26  10:55:05               javascript-i      476       34.0   \n",
       "2019-11-26  15:32:05  javascript-i/conditionals      472       34.0   \n",
       "2019-12-03  10:04:40               javascript-i      467       34.0   \n",
       "2019-12-03  11:49:29               javascript-i      467       34.0   \n",
       "2019-12-14  16:46:24               javascript-i      476       34.0   \n",
       "\n",
       "            program_id             ip   name  start_date    end_date  \\\n",
       "date                                                                   \n",
       "2019-11-26           3   97.105.19.58  Bayes  2019-08-19  2020-01-30   \n",
       "2019-11-26           3   97.105.19.58  Bayes  2019-08-19  2020-01-30   \n",
       "2019-12-03           3   97.105.19.58  Bayes  2019-08-19  2020-01-30   \n",
       "2019-12-03           3   97.105.19.58  Bayes  2019-08-19  2020-01-30   \n",
       "2019-12-14           3  136.50.49.145  Bayes  2019-08-19  2020-01-30   \n",
       "\n",
       "                     created_at       program           url  \\\n",
       "date                                                          \n",
       "2019-11-26  2019-08-20 14:38:55  data_science  javascript-i   \n",
       "2019-11-26  2019-08-20 14:38:55  data_science  javascript-i   \n",
       "2019-12-03  2019-08-20 14:38:55  data_science  javascript-i   \n",
       "2019-12-03  2019-08-20 14:38:55  data_science  javascript-i   \n",
       "2019-12-14  2019-08-20 14:38:55  data_science  javascript-i   \n",
       "\n",
       "                                 subpath  counter   lesson  \n",
       "date                                                        \n",
       "2019-11-26                [javascript-i]        1  pending  \n",
       "2019-11-26  [javascript-i, conditionals]        1  pending  \n",
       "2019-12-03                [javascript-i]        1  pending  \n",
       "2019-12-03                [javascript-i]        1  pending  \n",
       "2019-12-14                [javascript-i]        1  pending  "
      ]
     },
     "execution_count": 8,
     "metadata": {},
     "output_type": "execute_result"
    }
   ],
   "source": [
    "# set datetime\n",
    "df_ds.date = pd.to_datetime(df_ds.date)\n",
    "#set index\n",
    "df_ds =df_ds.set_index('date')\n",
    "#locaiton of 2019\n",
    "ds_2019 = df_ds.loc['2019']\n",
    "### Looking at the last hits from data science at webdev material\n",
    "\n",
    "ds_2019_url = ds_2019[ds_2019.url == 'javascript-i']\n",
    "ds_2019_url.tail()"
   ]
  },
  {
   "cell_type": "code",
   "execution_count": 9,
   "id": "030741e8",
   "metadata": {},
   "outputs": [
    {
     "data": {
      "text/html": [
       "<div>\n",
       "<style scoped>\n",
       "    .dataframe tbody tr th:only-of-type {\n",
       "        vertical-align: middle;\n",
       "    }\n",
       "\n",
       "    .dataframe tbody tr th {\n",
       "        vertical-align: top;\n",
       "    }\n",
       "\n",
       "    .dataframe thead th {\n",
       "        text-align: right;\n",
       "    }\n",
       "</style>\n",
       "<table border=\"1\" class=\"dataframe\">\n",
       "  <thead>\n",
       "    <tr style=\"text-align: right;\">\n",
       "      <th></th>\n",
       "      <th>time</th>\n",
       "      <th>path</th>\n",
       "      <th>user_id</th>\n",
       "      <th>cohort_id</th>\n",
       "      <th>program_id</th>\n",
       "      <th>ip</th>\n",
       "      <th>name</th>\n",
       "      <th>start_date</th>\n",
       "      <th>end_date</th>\n",
       "      <th>created_at</th>\n",
       "      <th>program</th>\n",
       "      <th>url</th>\n",
       "      <th>subpath</th>\n",
       "      <th>counter</th>\n",
       "      <th>lesson</th>\n",
       "    </tr>\n",
       "    <tr>\n",
       "      <th>date</th>\n",
       "      <th></th>\n",
       "      <th></th>\n",
       "      <th></th>\n",
       "      <th></th>\n",
       "      <th></th>\n",
       "      <th></th>\n",
       "      <th></th>\n",
       "      <th></th>\n",
       "      <th></th>\n",
       "      <th></th>\n",
       "      <th></th>\n",
       "      <th></th>\n",
       "      <th></th>\n",
       "      <th></th>\n",
       "      <th></th>\n",
       "    </tr>\n",
       "  </thead>\n",
       "  <tbody>\n",
       "    <tr>\n",
       "      <th>2019-11-12</th>\n",
       "      <td>14:25:49</td>\n",
       "      <td>4-python/project</td>\n",
       "      <td>458</td>\n",
       "      <td>33.0</td>\n",
       "      <td>2</td>\n",
       "      <td>97.105.19.58</td>\n",
       "      <td>Ceres</td>\n",
       "      <td>2019-07-15</td>\n",
       "      <td>2019-12-11</td>\n",
       "      <td>2019-07-15 16:57:21</td>\n",
       "      <td>web_dev</td>\n",
       "      <td>4-python</td>\n",
       "      <td>[4-python, project]</td>\n",
       "      <td>1</td>\n",
       "      <td>pending</td>\n",
       "    </tr>\n",
       "    <tr>\n",
       "      <th>2019-11-12</th>\n",
       "      <td>14:25:52</td>\n",
       "      <td>4-python/3-data-types-and-variables</td>\n",
       "      <td>458</td>\n",
       "      <td>33.0</td>\n",
       "      <td>2</td>\n",
       "      <td>97.105.19.58</td>\n",
       "      <td>Ceres</td>\n",
       "      <td>2019-07-15</td>\n",
       "      <td>2019-12-11</td>\n",
       "      <td>2019-07-15 16:57:21</td>\n",
       "      <td>web_dev</td>\n",
       "      <td>4-python</td>\n",
       "      <td>[4-python, 3-data-types-and-variables]</td>\n",
       "      <td>1</td>\n",
       "      <td>pending</td>\n",
       "    </tr>\n",
       "    <tr>\n",
       "      <th>2019-11-12</th>\n",
       "      <td>14:26:01</td>\n",
       "      <td>4-python/4-control-structures</td>\n",
       "      <td>458</td>\n",
       "      <td>33.0</td>\n",
       "      <td>2</td>\n",
       "      <td>97.105.19.58</td>\n",
       "      <td>Ceres</td>\n",
       "      <td>2019-07-15</td>\n",
       "      <td>2019-12-11</td>\n",
       "      <td>2019-07-15 16:57:21</td>\n",
       "      <td>web_dev</td>\n",
       "      <td>4-python</td>\n",
       "      <td>[4-python, 4-control-structures]</td>\n",
       "      <td>1</td>\n",
       "      <td>pending</td>\n",
       "    </tr>\n",
       "    <tr>\n",
       "      <th>2019-11-12</th>\n",
       "      <td>14:26:30</td>\n",
       "      <td>4-python/5-functions</td>\n",
       "      <td>458</td>\n",
       "      <td>33.0</td>\n",
       "      <td>2</td>\n",
       "      <td>97.105.19.58</td>\n",
       "      <td>Ceres</td>\n",
       "      <td>2019-07-15</td>\n",
       "      <td>2019-12-11</td>\n",
       "      <td>2019-07-15 16:57:21</td>\n",
       "      <td>web_dev</td>\n",
       "      <td>4-python</td>\n",
       "      <td>[4-python, 5-functions]</td>\n",
       "      <td>1</td>\n",
       "      <td>pending</td>\n",
       "    </tr>\n",
       "    <tr>\n",
       "      <th>2019-12-22</th>\n",
       "      <td>19:45:47</td>\n",
       "      <td>4-python/intro-to-sklearn</td>\n",
       "      <td>18</td>\n",
       "      <td>22.0</td>\n",
       "      <td>2</td>\n",
       "      <td>45.20.117.182</td>\n",
       "      <td>Teddy</td>\n",
       "      <td>2018-01-08</td>\n",
       "      <td>2018-05-17</td>\n",
       "      <td>2018-01-08 13:59:10</td>\n",
       "      <td>web_dev</td>\n",
       "      <td>4-python</td>\n",
       "      <td>[4-python, intro-to-sklearn]</td>\n",
       "      <td>1</td>\n",
       "      <td>pending</td>\n",
       "    </tr>\n",
       "  </tbody>\n",
       "</table>\n",
       "</div>"
      ],
      "text/plain": [
       "                time                                 path  user_id  cohort_id  \\\n",
       "date                                                                            \n",
       "2019-11-12  14:25:49                     4-python/project      458       33.0   \n",
       "2019-11-12  14:25:52  4-python/3-data-types-and-variables      458       33.0   \n",
       "2019-11-12  14:26:01        4-python/4-control-structures      458       33.0   \n",
       "2019-11-12  14:26:30                 4-python/5-functions      458       33.0   \n",
       "2019-12-22  19:45:47            4-python/intro-to-sklearn       18       22.0   \n",
       "\n",
       "            program_id             ip   name  start_date    end_date  \\\n",
       "date                                                                   \n",
       "2019-11-12           2   97.105.19.58  Ceres  2019-07-15  2019-12-11   \n",
       "2019-11-12           2   97.105.19.58  Ceres  2019-07-15  2019-12-11   \n",
       "2019-11-12           2   97.105.19.58  Ceres  2019-07-15  2019-12-11   \n",
       "2019-11-12           2   97.105.19.58  Ceres  2019-07-15  2019-12-11   \n",
       "2019-12-22           2  45.20.117.182  Teddy  2018-01-08  2018-05-17   \n",
       "\n",
       "                     created_at  program       url  \\\n",
       "date                                                 \n",
       "2019-11-12  2019-07-15 16:57:21  web_dev  4-python   \n",
       "2019-11-12  2019-07-15 16:57:21  web_dev  4-python   \n",
       "2019-11-12  2019-07-15 16:57:21  web_dev  4-python   \n",
       "2019-11-12  2019-07-15 16:57:21  web_dev  4-python   \n",
       "2019-12-22  2018-01-08 13:59:10  web_dev  4-python   \n",
       "\n",
       "                                           subpath  counter   lesson  \n",
       "date                                                                  \n",
       "2019-11-12                     [4-python, project]        1  pending  \n",
       "2019-11-12  [4-python, 3-data-types-and-variables]        1  pending  \n",
       "2019-11-12        [4-python, 4-control-structures]        1  pending  \n",
       "2019-11-12                 [4-python, 5-functions]        1  pending  \n",
       "2019-12-22            [4-python, intro-to-sklearn]        1  pending  "
      ]
     },
     "execution_count": 9,
     "metadata": {},
     "output_type": "execute_result"
    }
   ],
   "source": [
    "### Looking at the last hits from webdev at data science material\n",
    "\n",
    "df_wd.date = pd.to_datetime(df_wd.date)\n",
    "df_wd =df_wd.set_index('date')\n",
    "wd_2019 = df_wd.loc['2019']\n",
    "#12-22\n",
    "wd_2019_url = wd_2019[wd_2019.url == '4-python']\n",
    "wd_2019_url.tail()"
   ]
  },
  {
   "cell_type": "markdown",
   "id": "de2d4b4c",
   "metadata": {},
   "source": [
    "\n",
    "- The last access of a WD student accessing DS material was 12-22-19\n",
    "- The last access of a DS student accessing WD material was 12-14-19\n",
    "\n",
    "There is no determined cut off date for accessing the material until sometime in the last two weeks of 2019. There is also a few students who potentially could be scraping the material due to their access behavior."
   ]
  },
  {
   "cell_type": "markdown",
   "id": "44543372",
   "metadata": {},
   "source": [
    "## 6. What topics are grads continuing to reference after graduation and into their jobs (for each program)?"
   ]
  },
  {
   "cell_type": "code",
   "execution_count": 15,
   "id": "586fde95",
   "metadata": {},
   "outputs": [
    {
     "ename": "AttributeError",
     "evalue": "'DataFrame' object has no attribute 'date'",
     "output_type": "error",
     "traceback": [
      "\u001b[0;31m---------------------------------------------------------------------------\u001b[0m",
      "\u001b[0;31mAttributeError\u001b[0m                            Traceback (most recent call last)",
      "\u001b[0;32m<ipython-input-15-10c040f3450c>\u001b[0m in \u001b[0;36m<module>\u001b[0;34m\u001b[0m\n\u001b[0;32m----> 1\u001b[0;31m \u001b[0mdf_ds\u001b[0m\u001b[0;34m.\u001b[0m\u001b[0mdate\u001b[0m \u001b[0;34m=\u001b[0m \u001b[0mpd\u001b[0m\u001b[0;34m.\u001b[0m\u001b[0mto_datetime\u001b[0m\u001b[0;34m(\u001b[0m\u001b[0mdf_ds\u001b[0m\u001b[0;34m.\u001b[0m\u001b[0mdate\u001b[0m\u001b[0;34m)\u001b[0m\u001b[0;34m\u001b[0m\u001b[0;34m\u001b[0m\u001b[0m\n\u001b[0m\u001b[1;32m      2\u001b[0m \u001b[0mdf_wd\u001b[0m\u001b[0;34m.\u001b[0m\u001b[0mdate\u001b[0m \u001b[0;34m=\u001b[0m \u001b[0mpd\u001b[0m\u001b[0;34m.\u001b[0m\u001b[0mto_datetime\u001b[0m\u001b[0;34m(\u001b[0m\u001b[0mdf_wd\u001b[0m\u001b[0;34m.\u001b[0m\u001b[0mdate\u001b[0m\u001b[0;34m)\u001b[0m\u001b[0;34m\u001b[0m\u001b[0;34m\u001b[0m\u001b[0m\n",
      "\u001b[0;32m~/opt/anaconda3/lib/python3.8/site-packages/pandas/core/generic.py\u001b[0m in \u001b[0;36m__getattr__\u001b[0;34m(self, name)\u001b[0m\n\u001b[1;32m   5485\u001b[0m         ):\n\u001b[1;32m   5486\u001b[0m             \u001b[0;32mreturn\u001b[0m \u001b[0mself\u001b[0m\u001b[0;34m[\u001b[0m\u001b[0mname\u001b[0m\u001b[0;34m]\u001b[0m\u001b[0;34m\u001b[0m\u001b[0;34m\u001b[0m\u001b[0m\n\u001b[0;32m-> 5487\u001b[0;31m         \u001b[0;32mreturn\u001b[0m \u001b[0mobject\u001b[0m\u001b[0;34m.\u001b[0m\u001b[0m__getattribute__\u001b[0m\u001b[0;34m(\u001b[0m\u001b[0mself\u001b[0m\u001b[0;34m,\u001b[0m \u001b[0mname\u001b[0m\u001b[0;34m)\u001b[0m\u001b[0;34m\u001b[0m\u001b[0;34m\u001b[0m\u001b[0m\n\u001b[0m\u001b[1;32m   5488\u001b[0m \u001b[0;34m\u001b[0m\u001b[0m\n\u001b[1;32m   5489\u001b[0m     \u001b[0;32mdef\u001b[0m \u001b[0m__setattr__\u001b[0m\u001b[0;34m(\u001b[0m\u001b[0mself\u001b[0m\u001b[0;34m,\u001b[0m \u001b[0mname\u001b[0m\u001b[0;34m:\u001b[0m \u001b[0mstr\u001b[0m\u001b[0;34m,\u001b[0m \u001b[0mvalue\u001b[0m\u001b[0;34m)\u001b[0m \u001b[0;34m->\u001b[0m \u001b[0;32mNone\u001b[0m\u001b[0;34m:\u001b[0m\u001b[0;34m\u001b[0m\u001b[0;34m\u001b[0m\u001b[0m\n",
      "\u001b[0;31mAttributeError\u001b[0m: 'DataFrame' object has no attribute 'date'"
     ]
    }
   ],
   "source": [
    "df_ds.date = pd.to_datetime(df_ds.date)\n",
    "df_wd.date = pd.to_datetime(df_wd.date)\n"
   ]
  },
  {
   "cell_type": "code",
   "execution_count": 11,
   "id": "1a17c739",
   "metadata": {
    "scrolled": true
   },
   "outputs": [],
   "source": [
    "#datetime to end_date\n",
    "df_wd.end_date = pd.to_datetime(df.end_date)\n",
    "df_ds.end_date = pd.to_datetime(df.end_date)"
   ]
  },
  {
   "cell_type": "code",
   "execution_count": 13,
   "id": "d42b88d3",
   "metadata": {},
   "outputs": [
    {
     "data": {
      "text/plain": [
       "(NaT, NaT)"
      ]
     },
     "execution_count": 13,
     "metadata": {},
     "output_type": "execute_result"
    }
   ],
   "source": [
    "#checking timeframe for web_dev\n",
    "df_wd.end_date.min(), df_wd.end_date.max()"
   ]
  },
  {
   "cell_type": "code",
   "execution_count": 12,
   "id": "0ccdca89",
   "metadata": {},
   "outputs": [
    {
     "ename": "AttributeError",
     "evalue": "'DataFrame' object has no attribute 'date'",
     "output_type": "error",
     "traceback": [
      "\u001b[0;31m---------------------------------------------------------------------------\u001b[0m",
      "\u001b[0;31mAttributeError\u001b[0m                            Traceback (most recent call last)",
      "\u001b[0;32m<ipython-input-12-1cb96c77ae76>\u001b[0m in \u001b[0;36m<module>\u001b[0;34m\u001b[0m\n\u001b[0;32m----> 1\u001b[0;31m \u001b[0mdf_wd\u001b[0m\u001b[0;34m[\u001b[0m\u001b[0;34m'datetime'\u001b[0m\u001b[0;34m]\u001b[0m \u001b[0;34m=\u001b[0m \u001b[0mdf_wd\u001b[0m\u001b[0;34m.\u001b[0m\u001b[0mdate\u001b[0m\u001b[0;34m\u001b[0m\u001b[0;34m\u001b[0m\u001b[0m\n\u001b[0m\u001b[1;32m      2\u001b[0m \u001b[0mdf_wd\u001b[0m\u001b[0;34m[\u001b[0m\u001b[0;34m'datetime'\u001b[0m\u001b[0;34m]\u001b[0m \u001b[0;34m=\u001b[0m \u001b[0mpd\u001b[0m\u001b[0;34m.\u001b[0m\u001b[0mto_datetime\u001b[0m\u001b[0;34m(\u001b[0m\u001b[0mdf_wd\u001b[0m\u001b[0;34m[\u001b[0m\u001b[0;34m'datetime'\u001b[0m\u001b[0;34m]\u001b[0m\u001b[0;34m)\u001b[0m\u001b[0;34m\u001b[0m\u001b[0;34m\u001b[0m\u001b[0m\n",
      "\u001b[0;32m~/opt/anaconda3/lib/python3.8/site-packages/pandas/core/generic.py\u001b[0m in \u001b[0;36m__getattr__\u001b[0;34m(self, name)\u001b[0m\n\u001b[1;32m   5485\u001b[0m         ):\n\u001b[1;32m   5486\u001b[0m             \u001b[0;32mreturn\u001b[0m \u001b[0mself\u001b[0m\u001b[0;34m[\u001b[0m\u001b[0mname\u001b[0m\u001b[0;34m]\u001b[0m\u001b[0;34m\u001b[0m\u001b[0;34m\u001b[0m\u001b[0m\n\u001b[0;32m-> 5487\u001b[0;31m         \u001b[0;32mreturn\u001b[0m \u001b[0mobject\u001b[0m\u001b[0;34m.\u001b[0m\u001b[0m__getattribute__\u001b[0m\u001b[0;34m(\u001b[0m\u001b[0mself\u001b[0m\u001b[0;34m,\u001b[0m \u001b[0mname\u001b[0m\u001b[0;34m)\u001b[0m\u001b[0;34m\u001b[0m\u001b[0;34m\u001b[0m\u001b[0m\n\u001b[0m\u001b[1;32m   5488\u001b[0m \u001b[0;34m\u001b[0m\u001b[0m\n\u001b[1;32m   5489\u001b[0m     \u001b[0;32mdef\u001b[0m \u001b[0m__setattr__\u001b[0m\u001b[0;34m(\u001b[0m\u001b[0mself\u001b[0m\u001b[0;34m,\u001b[0m \u001b[0mname\u001b[0m\u001b[0;34m:\u001b[0m \u001b[0mstr\u001b[0m\u001b[0;34m,\u001b[0m \u001b[0mvalue\u001b[0m\u001b[0;34m)\u001b[0m \u001b[0;34m->\u001b[0m \u001b[0;32mNone\u001b[0m\u001b[0;34m:\u001b[0m\u001b[0;34m\u001b[0m\u001b[0;34m\u001b[0m\u001b[0m\n",
      "\u001b[0;31mAttributeError\u001b[0m: 'DataFrame' object has no attribute 'date'"
     ]
    }
   ],
   "source": [
    "df_wd['datetime'] = df_wd.date\n",
    "df_wd['datetime'] = pd.to_datetime(df_wd['datetime'])"
   ]
  },
  {
   "cell_type": "code",
   "execution_count": null,
   "id": "b82096b6",
   "metadata": {},
   "outputs": [],
   "source": []
  },
  {
   "cell_type": "code",
   "execution_count": null,
   "id": "639ba734",
   "metadata": {},
   "outputs": [],
   "source": []
  },
  {
   "cell_type": "code",
   "execution_count": null,
   "id": "ac90e239",
   "metadata": {},
   "outputs": [],
   "source": [
    "### "
   ]
  },
  {
   "cell_type": "code",
   "execution_count": null,
   "id": "0fce2799",
   "metadata": {},
   "outputs": [],
   "source": [
    "df.date"
   ]
  },
  {
   "cell_type": "code",
   "execution_count": null,
   "id": "cc8461a4",
   "metadata": {},
   "outputs": [],
   "source": [
    "#datetime to end_date\n",
    "df_wd.end_date = pd.to_datetime(df.end_date)\n",
    "df_ds.end_date = pd.to_datetime(df.end_date)"
   ]
  },
  {
   "cell_type": "code",
   "execution_count": null,
   "id": "5709da29",
   "metadata": {},
   "outputs": [],
   "source": [
    "df_ds.date = pd.to_datetime(df_ds.date)\n"
   ]
  },
  {
   "cell_type": "code",
   "execution_count": null,
   "id": "6b7f9a14",
   "metadata": {},
   "outputs": [],
   "source": [
    "# add to prepare.py\n",
    "df_wd['datetime'] = df_wd.date\n",
    "df_wd['datetime'] = pd.to_datetime(df_wd['datetime'])\n",
    "\n",
    "df_ds['datetime'] = df_ds.date\n",
    "df_ds['datetime'] = pd.to_datetime(df_ds['datetime'])"
   ]
  },
  {
   "cell_type": "code",
   "execution_count": null,
   "id": "8f2937e9",
   "metadata": {},
   "outputs": [],
   "source": [
    "df_wd.end_date = pd.to_datetime(df.end_date)\n",
    "df_ds.end_date = pd.to_datetime(df.end_date)\n",
    "\n",
    "#making a dataframe for each \n",
    "wd_diff_time = df_wd[df_wd.date > df_wd.end_date][['path', 'user_id', 'end_date', 'datetime', 'url', 'lesson']]\n",
    "ds_diff_time = df_ds[df_ds.date > df_ds.end_date][['path', 'user_id', 'end_date', 'datetime', 'url', 'lesson']]"
   ]
  },
  {
   "cell_type": "code",
   "execution_count": null,
   "id": "9681f952",
   "metadata": {},
   "outputs": [],
   "source": [
    "# top lessons Data Science alumni reference\n",
    "pd.DataFrame(ds_diff_time['lesson'].value_counts(ascending = False)).head(4)\n"
   ]
  },
  {
   "cell_type": "code",
   "execution_count": null,
   "id": "67d4ef98",
   "metadata": {},
   "outputs": [],
   "source": [
    "# top lessons Web Dev alumni reference\n",
    "pd.DataFrame(wd_diff_time['lesson'].value_counts(ascending = False)).head(4)"
   ]
  },
  {
   "cell_type": "code",
   "execution_count": null,
   "id": "2ea18bfc",
   "metadata": {},
   "outputs": [],
   "source": []
  },
  {
   "cell_type": "code",
   "execution_count": null,
   "id": "a8a1d335",
   "metadata": {},
   "outputs": [],
   "source": []
  },
  {
   "cell_type": "markdown",
   "id": "1df96d80",
   "metadata": {},
   "source": [
    "Web Dev:\n",
    "\n",
    "java\t20304\n",
    "\n",
    "javascript\t19794\n",
    "\n",
    "pending\t15290\n",
    "\n",
    "html-css\t13914"
   ]
  },
  {
   "cell_type": "markdown",
   "id": "ef143bbe",
   "metadata": {},
   "source": [
    "DS:\n",
    "\n",
    "sql\t1555\n",
    "\n",
    "fundamentals\t1514\n",
    "\n",
    "pending\t1472\n",
    "\n",
    "classification\t1312"
   ]
  },
  {
   "cell_type": "markdown",
   "id": "79dd8e05",
   "metadata": {},
   "source": [
    "## 7. Which lessons are least accessed?"
   ]
  },
  {
   "cell_type": "code",
   "execution_count": null,
   "id": "776a298b",
   "metadata": {},
   "outputs": [],
   "source": [
    "# DS Lessons count from bottom\n",
    "df_ds.groupby('lesson')[['user_id']].agg('count').sort_values(by='user_id', ascending=False).tail(7)"
   ]
  },
  {
   "cell_type": "code",
   "execution_count": null,
   "id": "3a7efb86",
   "metadata": {},
   "outputs": [],
   "source": [
    "# see counts for web dev lessons from bottom\n",
    "df_wd.groupby('lesson')[['user_id']].agg('count').sort_values(by='user_id', ascending=False).tail(8)"
   ]
  },
  {
   "cell_type": "markdown",
   "id": "795eb891",
   "metadata": {},
   "source": [
    "## 5 Least Popular Lessons for Data Science\n",
    "- time_series\n",
    "- storytelling\n",
    "- nlp\n",
    "- distributed\n",
    "- advancted topics\n",
    "\n",
    "## 5 Least Popular Lessons for Web Dev\\\n",
    "- jquery\n",
    "- toc\n",
    "- fundamentals\n",
    "- structure\n",
    "- php"
   ]
  }
 ],
 "metadata": {
  "kernelspec": {
   "display_name": "Python 3",
   "language": "python",
   "name": "python3"
  },
  "language_info": {
   "codemirror_mode": {
    "name": "ipython",
    "version": 3
   },
   "file_extension": ".py",
   "mimetype": "text/x-python",
   "name": "python",
   "nbconvert_exporter": "python",
   "pygments_lexer": "ipython3",
   "version": "3.8.8"
  }
 },
 "nbformat": 4,
 "nbformat_minor": 5
}
