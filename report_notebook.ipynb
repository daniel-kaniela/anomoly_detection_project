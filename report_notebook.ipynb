{
 "cells": [
  {
   "cell_type": "markdown",
   "id": "7259c6e5",
   "metadata": {},
   "source": [
    "### Kaniela Denis & Daniel Northcutt\n",
    "    01/31/2022"
   ]
  },
  {
   "cell_type": "code",
   "execution_count": 1,
   "id": "750ac712",
   "metadata": {},
   "outputs": [],
   "source": [
    "import warnings\n",
    "warnings.filterwarnings(\"ignore\")\n",
    "import matplotlib.pyplot as plt\n",
    "\n",
    "import numpy as np\n",
    "import pandas as pd\n",
    "import seaborn as sns\n",
    "\n",
    "from env import host, user, password\n",
    "\n",
    "# DBSCAN import\n",
    "from sklearn.cluster import DBSCAN\n",
    "\n",
    "import acquire\n",
    "import prepare"
   ]
  },
  {
   "cell_type": "code",
   "execution_count": 2,
   "id": "6157de99",
   "metadata": {},
   "outputs": [],
   "source": [
    "#acquire sql query\n",
    "df = acquire.acquire()"
   ]
  },
  {
   "cell_type": "code",
   "execution_count": 3,
   "id": "6401d1b8",
   "metadata": {},
   "outputs": [],
   "source": [
    "# see prepare for cleaning\n",
    "df = prepare.clean_cohort(df)"
   ]
  },
  {
   "cell_type": "code",
   "execution_count": 4,
   "id": "aac94b38",
   "metadata": {},
   "outputs": [],
   "source": [
    "# splits our df into a webdev and data science\n",
    "df_wd, df_ds = prepare.program_split(df)"
   ]
  },
  {
   "cell_type": "markdown",
   "id": "f0ba5461",
   "metadata": {},
   "source": [
    "## Prepare\n",
    "   #### Prepare Summary:\n",
    "   - Acquired data from SQL server and saved locally on csv\n",
    "   - Dropped unecessary columns\n",
    "   - Removed staff from database\n",
    "   - Defined program id as either web_dev or data_science\n",
    "   - Removed nulls\n",
    "   - Grouped course material into lesson column\n",
    "   - Creatd url and subpath column by removing \\ from path\n",
    "   - Created a counter column to help aid in ip hits\n",
    "   - Split data between df_wd (webdev) & df_ds (data science) "
   ]
  },
  {
   "cell_type": "markdown",
   "id": "a86b6a49",
   "metadata": {},
   "source": [
    "<hr style=\"border:1px solid black\"> </hr>\n"
   ]
  },
  {
   "cell_type": "markdown",
   "id": "0f899d12",
   "metadata": {},
   "source": [
    "## 1. Which lesson appears to attract the most traffic consistently across cohorts (per program)?"
   ]
  },
  {
   "cell_type": "code",
   "execution_count": 5,
   "id": "78128926",
   "metadata": {},
   "outputs": [
    {
     "data": {
      "text/html": [
       "<div>\n",
       "<style scoped>\n",
       "    .dataframe tbody tr th:only-of-type {\n",
       "        vertical-align: middle;\n",
       "    }\n",
       "\n",
       "    .dataframe tbody tr th {\n",
       "        vertical-align: top;\n",
       "    }\n",
       "\n",
       "    .dataframe thead th {\n",
       "        text-align: right;\n",
       "    }\n",
       "</style>\n",
       "<table border=\"1\" class=\"dataframe\">\n",
       "  <thead>\n",
       "    <tr style=\"text-align: right;\">\n",
       "      <th></th>\n",
       "      <th>user_id</th>\n",
       "    </tr>\n",
       "    <tr>\n",
       "      <th>lesson</th>\n",
       "      <th></th>\n",
       "    </tr>\n",
       "  </thead>\n",
       "  <tbody>\n",
       "    <tr>\n",
       "      <th>fundamentals</th>\n",
       "      <td>16691</td>\n",
       "    </tr>\n",
       "    <tr>\n",
       "      <th>sql</th>\n",
       "      <td>13685</td>\n",
       "    </tr>\n",
       "    <tr>\n",
       "      <th>classification</th>\n",
       "      <td>11841</td>\n",
       "    </tr>\n",
       "    <tr>\n",
       "      <th>python</th>\n",
       "      <td>10492</td>\n",
       "    </tr>\n",
       "    <tr>\n",
       "      <th>regression</th>\n",
       "      <td>7471</td>\n",
       "    </tr>\n",
       "    <tr>\n",
       "      <th>stats</th>\n",
       "      <td>6663</td>\n",
       "    </tr>\n",
       "  </tbody>\n",
       "</table>\n",
       "</div>"
      ],
      "text/plain": [
       "                user_id\n",
       "lesson                 \n",
       "fundamentals      16691\n",
       "sql               13685\n",
       "classification    11841\n",
       "python            10492\n",
       "regression         7471\n",
       "stats              6663"
      ]
     },
     "execution_count": 5,
     "metadata": {},
     "output_type": "execute_result"
    }
   ],
   "source": [
    "# DS Lessons count from top\n",
    "df_ds.groupby('lesson')[['user_id']].agg('count').sort_values(by='user_id', ascending=False).head(6)"
   ]
  },
  {
   "cell_type": "code",
   "execution_count": 6,
   "id": "343df138",
   "metadata": {},
   "outputs": [
    {
     "data": {
      "text/html": [
       "<div>\n",
       "<style scoped>\n",
       "    .dataframe tbody tr th:only-of-type {\n",
       "        vertical-align: middle;\n",
       "    }\n",
       "\n",
       "    .dataframe tbody tr th {\n",
       "        vertical-align: top;\n",
       "    }\n",
       "\n",
       "    .dataframe thead th {\n",
       "        text-align: right;\n",
       "    }\n",
       "</style>\n",
       "<table border=\"1\" class=\"dataframe\">\n",
       "  <thead>\n",
       "    <tr style=\"text-align: right;\">\n",
       "      <th></th>\n",
       "      <th>user_id</th>\n",
       "    </tr>\n",
       "    <tr>\n",
       "      <th>lesson</th>\n",
       "      <th></th>\n",
       "    </tr>\n",
       "  </thead>\n",
       "  <tbody>\n",
       "    <tr>\n",
       "      <th>javascript</th>\n",
       "      <td>149227</td>\n",
       "    </tr>\n",
       "    <tr>\n",
       "      <th>java</th>\n",
       "      <td>138797</td>\n",
       "    </tr>\n",
       "    <tr>\n",
       "      <th>html-css</th>\n",
       "      <td>92725</td>\n",
       "    </tr>\n",
       "    <tr>\n",
       "      <th>mysql</th>\n",
       "      <td>71913</td>\n",
       "    </tr>\n",
       "    <tr>\n",
       "      <th>pending</th>\n",
       "      <td>58279</td>\n",
       "    </tr>\n",
       "    <tr>\n",
       "      <th>spring</th>\n",
       "      <td>52344</td>\n",
       "    </tr>\n",
       "  </tbody>\n",
       "</table>\n",
       "</div>"
      ],
      "text/plain": [
       "            user_id\n",
       "lesson             \n",
       "javascript   149227\n",
       "java         138797\n",
       "html-css      92725\n",
       "mysql         71913\n",
       "pending       58279\n",
       "spring        52344"
      ]
     },
     "execution_count": 6,
     "metadata": {},
     "output_type": "execute_result"
    }
   ],
   "source": [
    "# see counts for web dev lessons from top\n",
    "df_wd.groupby('lesson')[['user_id']].agg('count').sort_values(by='user_id', ascending=False).head(6)"
   ]
  },
  {
   "cell_type": "markdown",
   "id": "99b72ea1",
   "metadata": {},
   "source": [
    "## 5 Most Popular Lessons for Data Science\n",
    "- Fundamentals\n",
    "- SQL\n",
    "- Classfication\n",
    "- Python\n",
    "- Regression\n",
    "\n",
    "\n",
    "\n",
    "## 5 Most Popular Lessons for Web Dev\n",
    "- Javascript\n",
    "- Java\n",
    "- HTML-CSS\n",
    "- MySQL\n",
    "- Spring\n"
   ]
  },
  {
   "cell_type": "markdown",
   "id": "ce0f6a1e",
   "metadata": {},
   "source": [
    "<hr style=\"border:1px solid black\"> </hr>\n"
   ]
  },
  {
   "cell_type": "markdown",
   "id": "0469435e",
   "metadata": {},
   "source": [
    "## 2. Is there a cohort that referred to a lesson significantly more than other cohorts seemed to gloss over?"
   ]
  },
  {
   "cell_type": "code",
   "execution_count": 7,
   "id": "b57dd57b",
   "metadata": {},
   "outputs": [],
   "source": [
    "def value_counts_and_frequencies(s: pd.Series, dropna=True) -> pd.DataFrame:\n",
    "    return pd.merge(\n",
    "        s.value_counts(dropna=False).rename('count'),\n",
    "        s.value_counts(dropna=False, normalize=True).rename('proba'),\n",
    "        left_index=True,\n",
    "        right_index=True,\n",
    "    )"
   ]
  },
  {
   "cell_type": "code",
   "execution_count": 8,
   "id": "ccf23213",
   "metadata": {},
   "outputs": [
    {
     "data": {
      "text/html": [
       "<div>\n",
       "<style scoped>\n",
       "    .dataframe tbody tr th:only-of-type {\n",
       "        vertical-align: middle;\n",
       "    }\n",
       "\n",
       "    .dataframe tbody tr th {\n",
       "        vertical-align: top;\n",
       "    }\n",
       "\n",
       "    .dataframe thead th {\n",
       "        text-align: right;\n",
       "    }\n",
       "</style>\n",
       "<table border=\"1\" class=\"dataframe\">\n",
       "  <thead>\n",
       "    <tr style=\"text-align: right;\">\n",
       "      <th></th>\n",
       "      <th>count</th>\n",
       "      <th>proba</th>\n",
       "    </tr>\n",
       "  </thead>\n",
       "  <tbody>\n",
       "    <tr>\n",
       "      <th>javascript</th>\n",
       "      <td>149227</td>\n",
       "      <td>0.226140</td>\n",
       "    </tr>\n",
       "    <tr>\n",
       "      <th>java</th>\n",
       "      <td>138797</td>\n",
       "      <td>0.210334</td>\n",
       "    </tr>\n",
       "    <tr>\n",
       "      <th>html-css</th>\n",
       "      <td>92725</td>\n",
       "      <td>0.140516</td>\n",
       "    </tr>\n",
       "    <tr>\n",
       "      <th>mysql</th>\n",
       "      <td>71913</td>\n",
       "      <td>0.108978</td>\n",
       "    </tr>\n",
       "    <tr>\n",
       "      <th>pending</th>\n",
       "      <td>58279</td>\n",
       "      <td>0.088317</td>\n",
       "    </tr>\n",
       "    <tr>\n",
       "      <th>spring</th>\n",
       "      <td>52344</td>\n",
       "      <td>0.079323</td>\n",
       "    </tr>\n",
       "    <tr>\n",
       "      <th>jquery</th>\n",
       "      <td>50290</td>\n",
       "      <td>0.076210</td>\n",
       "    </tr>\n",
       "    <tr>\n",
       "      <th>toc</th>\n",
       "      <td>16669</td>\n",
       "      <td>0.025260</td>\n",
       "    </tr>\n",
       "    <tr>\n",
       "      <th>search</th>\n",
       "      <td>16000</td>\n",
       "      <td>0.024247</td>\n",
       "    </tr>\n",
       "    <tr>\n",
       "      <th>capstone</th>\n",
       "      <td>4834</td>\n",
       "      <td>0.007325</td>\n",
       "    </tr>\n",
       "    <tr>\n",
       "      <th>index</th>\n",
       "      <td>3587</td>\n",
       "      <td>0.005436</td>\n",
       "    </tr>\n",
       "    <tr>\n",
       "      <th>structure</th>\n",
       "      <td>2900</td>\n",
       "      <td>0.004395</td>\n",
       "    </tr>\n",
       "    <tr>\n",
       "      <th>php</th>\n",
       "      <td>2085</td>\n",
       "      <td>0.003160</td>\n",
       "    </tr>\n",
       "    <tr>\n",
       "      <th>fundamentals</th>\n",
       "      <td>237</td>\n",
       "      <td>0.000359</td>\n",
       "    </tr>\n",
       "  </tbody>\n",
       "</table>\n",
       "</div>"
      ],
      "text/plain": [
       "               count     proba\n",
       "javascript    149227  0.226140\n",
       "java          138797  0.210334\n",
       "html-css       92725  0.140516\n",
       "mysql          71913  0.108978\n",
       "pending        58279  0.088317\n",
       "spring         52344  0.079323\n",
       "jquery         50290  0.076210\n",
       "toc            16669  0.025260\n",
       "search         16000  0.024247\n",
       "capstone        4834  0.007325\n",
       "index           3587  0.005436\n",
       "structure       2900  0.004395\n",
       "php             2085  0.003160\n",
       "fundamentals     237  0.000359"
      ]
     },
     "execution_count": 8,
     "metadata": {},
     "output_type": "execute_result"
    }
   ],
   "source": [
    "df_lessons = value_counts_and_frequencies(df_wd.lesson)\n",
    "df_lessons.head(60)"
   ]
  },
  {
   "cell_type": "code",
   "execution_count": 9,
   "id": "91c89e89",
   "metadata": {},
   "outputs": [
    {
     "data": {
      "image/png": "[encoded data removed]",
      "text/plain": [
       "<Figure size 360x648 with 1 Axes>"
      ]
     },
     "metadata": {
      "needs_background": "light"
     },
     "output_type": "display_data"
    }
   ],
   "source": [
    "df_lessons['count'].sort_values().tail(5).plot.barh(figsize=(5, 9));"
   ]
  },
  {
   "cell_type": "code",
   "execution_count": 10,
   "id": "af0f62b0",
   "metadata": {},
   "outputs": [
    {
     "data": {
      "text/html": [
       "<div>\n",
       "<style scoped>\n",
       "    .dataframe tbody tr th:only-of-type {\n",
       "        vertical-align: middle;\n",
       "    }\n",
       "\n",
       "    .dataframe tbody tr th {\n",
       "        vertical-align: top;\n",
       "    }\n",
       "\n",
       "    .dataframe thead th {\n",
       "        text-align: right;\n",
       "    }\n",
       "</style>\n",
       "<table border=\"1\" class=\"dataframe\">\n",
       "  <thead>\n",
       "    <tr style=\"text-align: right;\">\n",
       "      <th></th>\n",
       "      <th>lesson</th>\n",
       "      <th>name</th>\n",
       "      <th>user_id</th>\n",
       "    </tr>\n",
       "  </thead>\n",
       "  <tbody>\n",
       "    <tr>\n",
       "      <th>0</th>\n",
       "      <td>java</td>\n",
       "      <td>Jupiter</td>\n",
       "      <td>9594</td>\n",
       "    </tr>\n",
       "    <tr>\n",
       "      <th>1</th>\n",
       "      <td>javascript</td>\n",
       "      <td>Ceres</td>\n",
       "      <td>9359</td>\n",
       "    </tr>\n",
       "    <tr>\n",
       "      <th>2</th>\n",
       "      <td>javascript</td>\n",
       "      <td>Zion</td>\n",
       "      <td>8754</td>\n",
       "    </tr>\n",
       "    <tr>\n",
       "      <th>3</th>\n",
       "      <td>java</td>\n",
       "      <td>Voyageurs</td>\n",
       "      <td>8617</td>\n",
       "    </tr>\n",
       "    <tr>\n",
       "      <th>4</th>\n",
       "      <td>java</td>\n",
       "      <td>Ceres</td>\n",
       "      <td>8612</td>\n",
       "    </tr>\n",
       "    <tr>\n",
       "      <th>5</th>\n",
       "      <td>java</td>\n",
       "      <td>Fortuna</td>\n",
       "      <td>8485</td>\n",
       "    </tr>\n",
       "    <tr>\n",
       "      <th>6</th>\n",
       "      <td>java</td>\n",
       "      <td>Apex</td>\n",
       "      <td>8291</td>\n",
       "    </tr>\n",
       "    <tr>\n",
       "      <th>7</th>\n",
       "      <td>java</td>\n",
       "      <td>Zion</td>\n",
       "      <td>8219</td>\n",
       "    </tr>\n",
       "    <tr>\n",
       "      <th>8</th>\n",
       "      <td>java</td>\n",
       "      <td>Ganymede</td>\n",
       "      <td>7649</td>\n",
       "    </tr>\n",
       "    <tr>\n",
       "      <th>9</th>\n",
       "      <td>javascript</td>\n",
       "      <td>Fortuna</td>\n",
       "      <td>7450</td>\n",
       "    </tr>\n",
       "    <tr>\n",
       "      <th>10</th>\n",
       "      <td>javascript</td>\n",
       "      <td>Betelgeuse</td>\n",
       "      <td>7436</td>\n",
       "    </tr>\n",
       "    <tr>\n",
       "      <th>11</th>\n",
       "      <td>javascript</td>\n",
       "      <td>Voyageurs</td>\n",
       "      <td>7368</td>\n",
       "    </tr>\n",
       "    <tr>\n",
       "      <th>12</th>\n",
       "      <td>javascript</td>\n",
       "      <td>Jupiter</td>\n",
       "      <td>7034</td>\n",
       "    </tr>\n",
       "    <tr>\n",
       "      <th>13</th>\n",
       "      <td>javascript</td>\n",
       "      <td>Ganymede</td>\n",
       "      <td>6993</td>\n",
       "    </tr>\n",
       "    <tr>\n",
       "      <th>14</th>\n",
       "      <td>javascript</td>\n",
       "      <td>Deimos</td>\n",
       "      <td>6975</td>\n",
       "    </tr>\n",
       "    <tr>\n",
       "      <th>15</th>\n",
       "      <td>javascript</td>\n",
       "      <td>Marco</td>\n",
       "      <td>6921</td>\n",
       "    </tr>\n",
       "    <tr>\n",
       "      <th>16</th>\n",
       "      <td>java</td>\n",
       "      <td>Hyperion</td>\n",
       "      <td>6851</td>\n",
       "    </tr>\n",
       "    <tr>\n",
       "      <th>17</th>\n",
       "      <td>javascript</td>\n",
       "      <td>Hyperion</td>\n",
       "      <td>6811</td>\n",
       "    </tr>\n",
       "    <tr>\n",
       "      <th>18</th>\n",
       "      <td>html-css</td>\n",
       "      <td>Ceres</td>\n",
       "      <td>6785</td>\n",
       "    </tr>\n",
       "    <tr>\n",
       "      <th>19</th>\n",
       "      <td>java</td>\n",
       "      <td>Betelgeuse</td>\n",
       "      <td>6713</td>\n",
       "    </tr>\n",
       "  </tbody>\n",
       "</table>\n",
       "</div>"
      ],
      "text/plain": [
       "        lesson        name  user_id\n",
       "0         java     Jupiter     9594\n",
       "1   javascript       Ceres     9359\n",
       "2   javascript        Zion     8754\n",
       "3         java   Voyageurs     8617\n",
       "4         java       Ceres     8612\n",
       "5         java     Fortuna     8485\n",
       "6         java        Apex     8291\n",
       "7         java        Zion     8219\n",
       "8         java    Ganymede     7649\n",
       "9   javascript     Fortuna     7450\n",
       "10  javascript  Betelgeuse     7436\n",
       "11  javascript   Voyageurs     7368\n",
       "12  javascript     Jupiter     7034\n",
       "13  javascript    Ganymede     6993\n",
       "14  javascript      Deimos     6975\n",
       "15  javascript       Marco     6921\n",
       "16        java    Hyperion     6851\n",
       "17  javascript    Hyperion     6811\n",
       "18    html-css       Ceres     6785\n",
       "19        java  Betelgeuse     6713"
      ]
     },
     "execution_count": 10,
     "metadata": {},
     "output_type": "execute_result"
    }
   ],
   "source": [
    "# groupby lesson, then groupby cohort, count user_id\n",
    "webdev_lessons = df_wd.groupby(['lesson','name'])[['user_id']].agg('count').sort_values(['user_id'], ascending=False).reset_index()\n",
    "webdev_lessons.head(20)"
   ]
  },
  {
   "cell_type": "code",
   "execution_count": 11,
   "id": "79d53b3b",
   "metadata": {},
   "outputs": [
    {
     "data": {
      "text/html": [
       "<div>\n",
       "<style scoped>\n",
       "    .dataframe tbody tr th:only-of-type {\n",
       "        vertical-align: middle;\n",
       "    }\n",
       "\n",
       "    .dataframe tbody tr th {\n",
       "        vertical-align: top;\n",
       "    }\n",
       "\n",
       "    .dataframe thead th {\n",
       "        text-align: right;\n",
       "    }\n",
       "</style>\n",
       "<table border=\"1\" class=\"dataframe\">\n",
       "  <thead>\n",
       "    <tr style=\"text-align: right;\">\n",
       "      <th></th>\n",
       "      <th>lesson</th>\n",
       "      <th>name</th>\n",
       "      <th>count</th>\n",
       "      <th>cohort_lesson</th>\n",
       "    </tr>\n",
       "  </thead>\n",
       "  <tbody>\n",
       "    <tr>\n",
       "      <th>0</th>\n",
       "      <td>java</td>\n",
       "      <td>Jupiter</td>\n",
       "      <td>9594</td>\n",
       "      <td>Jupiter_java</td>\n",
       "    </tr>\n",
       "    <tr>\n",
       "      <th>1</th>\n",
       "      <td>javascript</td>\n",
       "      <td>Ceres</td>\n",
       "      <td>9359</td>\n",
       "      <td>Ceres_javascript</td>\n",
       "    </tr>\n",
       "    <tr>\n",
       "      <th>2</th>\n",
       "      <td>javascript</td>\n",
       "      <td>Zion</td>\n",
       "      <td>8754</td>\n",
       "      <td>Zion_javascript</td>\n",
       "    </tr>\n",
       "    <tr>\n",
       "      <th>3</th>\n",
       "      <td>java</td>\n",
       "      <td>Voyageurs</td>\n",
       "      <td>8617</td>\n",
       "      <td>Voyageurs_java</td>\n",
       "    </tr>\n",
       "    <tr>\n",
       "      <th>4</th>\n",
       "      <td>java</td>\n",
       "      <td>Ceres</td>\n",
       "      <td>8612</td>\n",
       "      <td>Ceres_java</td>\n",
       "    </tr>\n",
       "    <tr>\n",
       "      <th>...</th>\n",
       "      <td>...</td>\n",
       "      <td>...</td>\n",
       "      <td>...</td>\n",
       "      <td>...</td>\n",
       "    </tr>\n",
       "    <tr>\n",
       "      <th>475</th>\n",
       "      <td>capstone</td>\n",
       "      <td>Ike</td>\n",
       "      <td>1</td>\n",
       "      <td>Ike_capstone</td>\n",
       "    </tr>\n",
       "    <tr>\n",
       "      <th>476</th>\n",
       "      <td>fundamentals</td>\n",
       "      <td>Yosemite</td>\n",
       "      <td>1</td>\n",
       "      <td>Yosemite_fundamentals</td>\n",
       "    </tr>\n",
       "    <tr>\n",
       "      <th>477</th>\n",
       "      <td>capstone</td>\n",
       "      <td>Niagara</td>\n",
       "      <td>1</td>\n",
       "      <td>Niagara_capstone</td>\n",
       "    </tr>\n",
       "    <tr>\n",
       "      <th>478</th>\n",
       "      <td>search</td>\n",
       "      <td>Ike</td>\n",
       "      <td>1</td>\n",
       "      <td>Ike_search</td>\n",
       "    </tr>\n",
       "    <tr>\n",
       "      <th>479</th>\n",
       "      <td>pending</td>\n",
       "      <td>Apollo</td>\n",
       "      <td>1</td>\n",
       "      <td>Apollo_pending</td>\n",
       "    </tr>\n",
       "  </tbody>\n",
       "</table>\n",
       "<p>480 rows × 4 columns</p>\n",
       "</div>"
      ],
      "text/plain": [
       "           lesson       name  count          cohort_lesson\n",
       "0            java    Jupiter   9594           Jupiter_java\n",
       "1      javascript      Ceres   9359       Ceres_javascript\n",
       "2      javascript       Zion   8754        Zion_javascript\n",
       "3            java  Voyageurs   8617         Voyageurs_java\n",
       "4            java      Ceres   8612             Ceres_java\n",
       "..            ...        ...    ...                    ...\n",
       "475      capstone        Ike      1           Ike_capstone\n",
       "476  fundamentals   Yosemite      1  Yosemite_fundamentals\n",
       "477      capstone    Niagara      1       Niagara_capstone\n",
       "478        search        Ike      1             Ike_search\n",
       "479       pending     Apollo      1         Apollo_pending\n",
       "\n",
       "[480 rows x 4 columns]"
      ]
     },
     "execution_count": 11,
     "metadata": {},
     "output_type": "execute_result"
    }
   ],
   "source": [
    "webdev_lessons = webdev_lessons.rename(columns={'user_id':'count'})\n",
    "webdev_lessons['cohort_lesson'] = webdev_lessons.name + '_' + webdev_lessons.lesson\n",
    "webdev_lessons"
   ]
  },
  {
   "cell_type": "code",
   "execution_count": 12,
   "id": "93f0b952",
   "metadata": {},
   "outputs": [
    {
     "data": {
      "text/plain": [
       "<matplotlib.legend.Legend at 0x7fc8306fb700>"
      ]
     },
     "execution_count": 12,
     "metadata": {},
     "output_type": "execute_result"
    },
    {
     "data": {
      "image/png": "[encoded data removed]",
      "text/plain": [
       "<Figure size 1440x1440 with 1 Axes>"
      ]
     },
     "metadata": {
      "needs_background": "light"
     },
     "output_type": "display_data"
    }
   ],
   "source": [
    "plt.figure(figsize=(20, 20))\n",
    "sns.barplot(data=webdev_lessons, x='lesson', y='count', hue='name')\n",
    "plt.legend(loc=1)"
   ]
  },
  {
   "cell_type": "code",
   "execution_count": 13,
   "id": "5e6a4b77",
   "metadata": {},
   "outputs": [
    {
     "data": {
      "text/plain": [
       "<matplotlib.legend.Legend at 0x7fc83071bd90>"
      ]
     },
     "execution_count": 13,
     "metadata": {},
     "output_type": "execute_result"
    },
    {
     "data": {
      "image/png": "[encoded data removed]",
      "text/plain": [
       "<Figure size 2880x2160 with 1 Axes>"
      ]
     },
     "metadata": {
      "needs_background": "light"
     },
     "output_type": "display_data"
    }
   ],
   "source": [
    "plt.figure(figsize=(40, 30))\n",
    "sns.barplot(data=webdev_lessons, x='name', y='count', hue='lesson')\n",
    "plt.legend(loc=1)"
   ]
  },
  {
   "cell_type": "markdown",
   "id": "9b1a89f0",
   "metadata": {},
   "source": [
    "<hr style=\"border:1px solid black\"> </hr>\n"
   ]
  },
  {
   "cell_type": "markdown",
   "id": "87629df0",
   "metadata": {},
   "source": [
    "## 3. Are there students who, when active, hardly access the curriculum? If so, what information do you have about these students?"
   ]
  },
  {
   "cell_type": "code",
   "execution_count": 14,
   "id": "9acb2908",
   "metadata": {},
   "outputs": [
    {
     "data": {
      "text/plain": [
       "(647495, 15)"
      ]
     },
     "execution_count": 14,
     "metadata": {},
     "output_type": "execute_result"
    }
   ],
   "source": [
    "# represents students when active in their cohort\n",
    "df_active = df[(df.start_date <= df.date) & (df.date <= df.end_date)]\n",
    "df_active.shape"
   ]
  },
  {
   "cell_type": "code",
   "execution_count": 15,
   "id": "f2405a47",
   "metadata": {},
   "outputs": [],
   "source": [
    "# active students groupby the user_id giving a sum on the counter column\n",
    "student_counter = (df_active.groupby('user_id').counter.sum().sort_values())\n",
    "#make into a dataframe\n",
    "student_counter=pd.DataFrame(student_counter)"
   ]
  },
  {
   "cell_type": "code",
   "execution_count": 16,
   "id": "edd5c387",
   "metadata": {},
   "outputs": [
    {
     "data": {
      "text/html": [
       "<div>\n",
       "<style scoped>\n",
       "    .dataframe tbody tr th:only-of-type {\n",
       "        vertical-align: middle;\n",
       "    }\n",
       "\n",
       "    .dataframe tbody tr th {\n",
       "        vertical-align: top;\n",
       "    }\n",
       "\n",
       "    .dataframe thead th {\n",
       "        text-align: right;\n",
       "    }\n",
       "</style>\n",
       "<table border=\"1\" class=\"dataframe\">\n",
       "  <thead>\n",
       "    <tr style=\"text-align: right;\">\n",
       "      <th></th>\n",
       "      <th>counter</th>\n",
       "    </tr>\n",
       "    <tr>\n",
       "      <th>user_id</th>\n",
       "      <th></th>\n",
       "    </tr>\n",
       "  </thead>\n",
       "  <tbody>\n",
       "    <tr>\n",
       "      <th>918</th>\n",
       "      <td>1</td>\n",
       "    </tr>\n",
       "    <tr>\n",
       "      <th>879</th>\n",
       "      <td>1</td>\n",
       "    </tr>\n",
       "    <tr>\n",
       "      <th>940</th>\n",
       "      <td>1</td>\n",
       "    </tr>\n",
       "    <tr>\n",
       "      <th>619</th>\n",
       "      <td>1</td>\n",
       "    </tr>\n",
       "    <tr>\n",
       "      <th>832</th>\n",
       "      <td>3</td>\n",
       "    </tr>\n",
       "    <tr>\n",
       "      <th>...</th>\n",
       "      <td>...</td>\n",
       "    </tr>\n",
       "    <tr>\n",
       "      <th>555</th>\n",
       "      <td>3088</td>\n",
       "    </tr>\n",
       "    <tr>\n",
       "      <th>671</th>\n",
       "      <td>3194</td>\n",
       "    </tr>\n",
       "    <tr>\n",
       "      <th>685</th>\n",
       "      <td>3224</td>\n",
       "    </tr>\n",
       "    <tr>\n",
       "      <th>570</th>\n",
       "      <td>4075</td>\n",
       "    </tr>\n",
       "    <tr>\n",
       "      <th>344</th>\n",
       "      <td>4786</td>\n",
       "    </tr>\n",
       "  </tbody>\n",
       "</table>\n",
       "<p>731 rows × 1 columns</p>\n",
       "</div>"
      ],
      "text/plain": [
       "         counter\n",
       "user_id         \n",
       "918            1\n",
       "879            1\n",
       "940            1\n",
       "619            1\n",
       "832            3\n",
       "...          ...\n",
       "555         3088\n",
       "671         3194\n",
       "685         3224\n",
       "570         4075\n",
       "344         4786\n",
       "\n",
       "[731 rows x 1 columns]"
      ]
     },
     "execution_count": 16,
     "metadata": {},
     "output_type": "execute_result"
    }
   ],
   "source": [
    "student_counter"
   ]
  },
  {
   "cell_type": "code",
   "execution_count": 17,
   "id": "fd1d8415",
   "metadata": {},
   "outputs": [
    {
     "data": {
      "text/plain": [
       "288.0"
      ]
     },
     "execution_count": 17,
     "metadata": {},
     "output_type": "execute_result"
    }
   ],
   "source": [
    "# this represents that the lowest 20% of student's curriculum searches is under 288 vists\n",
    "bottom_twenty = student_counter.counter.quantile(.20)\n",
    "bottom_twenty"
   ]
  },
  {
   "cell_type": "code",
   "execution_count": 18,
   "id": "95892a59",
   "metadata": {},
   "outputs": [
    {
     "data": {
      "text/plain": [
       "1379.0"
      ]
     },
     "execution_count": 18,
     "metadata": {},
     "output_type": "execute_result"
    }
   ],
   "source": [
    "# this represents that the highest 20% of student's curriculum searches is over 1379 vists\n",
    "top_twenty = student_counter.counter.quantile(.80)\n",
    "top_twenty"
   ]
  },
  {
   "cell_type": "code",
   "execution_count": 19,
   "id": "80eca7cc",
   "metadata": {},
   "outputs": [
    {
     "data": {
      "text/plain": [
       "'2021-04-21'"
      ]
     },
     "execution_count": 19,
     "metadata": {},
     "output_type": "execute_result"
    }
   ],
   "source": [
    "# the last date stamp from this database is on: \n",
    "df.date.max()"
   ]
  },
  {
   "cell_type": "markdown",
   "id": "2ac881d2",
   "metadata": {},
   "source": [
    "- The top 20% student curriculum searches was >= 1379\n",
    "- The lowest 20% student curriculum searches was <= 288\n",
    "\n",
    "\n",
    "\n",
    "#### The last date stamp of this dataframe is on 04-21-2021\n",
    "\n",
    "\n",
    "These 5 cohorts are not accurately represented by the dataset as their end date for students is beyond the last entry from this dataset\n",
    "\n",
    " End Date: ---- Cohort Name: --- Ip hits:\n",
    " \n",
    "2021-05-04 ---- Kalypso   ----    23691\n",
    "\n",
    "2021-06-08 ---- Luna     ----     16623\n",
    "\n",
    "2021-07-19 ---- Marco    ----     16397\n",
    "\n",
    "2021-09-03 ---- Neptune    ----    7276\n",
    "\n",
    "2021-10-01 ---- Oberon   ----      1672"
   ]
  },
  {
   "cell_type": "markdown",
   "id": "39563e2d",
   "metadata": {},
   "source": [
    "<hr style=\"border:1px solid black\"> </hr>\n"
   ]
  },
  {
   "cell_type": "markdown",
   "id": "af766723",
   "metadata": {},
   "source": [
    "## 4. Is there any suspicious activity, such as users/machines/etc accessing the curriculum who shouldn’t be? Does it appear that any web-scraping is happening? Are there any suspicious IP addresses?"
   ]
  },
  {
   "cell_type": "code",
   "execution_count": 26,
   "id": "76a86c9f",
   "metadata": {},
   "outputs": [
    {
     "data": {
      "text/plain": [
       "97.105.19.58       245055\n",
       "97.105.19.61        60530\n",
       "192.171.117.210      8911\n",
       "67.11.50.23          4181\n",
       "172.124.67.93        3511\n",
       "                    ...  \n",
       "172.56.6.109            1\n",
       "99.203.27.111           1\n",
       "173.123.121.68          1\n",
       "172.58.109.220          1\n",
       "172.58.110.234          1\n",
       "Name: ip, Length: 4951, dtype: int64"
      ]
     },
     "execution_count": 26,
     "metadata": {},
     "output_type": "execute_result"
    }
   ],
   "source": [
    "df.ip.value_counts()"
   ]
  },
  {
   "cell_type": "code",
   "execution_count": 27,
   "id": "81017be9",
   "metadata": {},
   "outputs": [],
   "source": [
    "df['datetime'] = df.date + ' ' + df.time\n",
    "df['datetime'] = pd.to_datetime(df['datetime'])\n",
    "df = df.set_index(['datetime'])"
   ]
  },
  {
   "cell_type": "code",
   "execution_count": 28,
   "id": "0809ca36",
   "metadata": {},
   "outputs": [
    {
     "data": {
      "text/plain": [
       "datetime             ip             \n",
       "2018-01-26 09:00:00  97.105.19.61        11\n",
       "2018-01-26 10:00:00  97.105.19.61        61\n",
       "                     71.137.146.71        2\n",
       "2018-01-26 11:00:00  97.105.19.61       101\n",
       "2018-01-26 12:00:00  97.105.19.61        22\n",
       "                                       ... \n",
       "2021-04-21 16:00:00  104.48.214.211       1\n",
       "                     172.125.226.175      1\n",
       "                     173.174.194.60       1\n",
       "                     66.69.48.5           1\n",
       "                     68.206.162.6         1\n",
       "Name: ip, Length: 121490, dtype: int64"
      ]
     },
     "execution_count": 28,
     "metadata": {},
     "output_type": "execute_result"
    }
   ],
   "source": [
    "df.resample('h').ip.value_counts()"
   ]
  },
  {
   "cell_type": "code",
   "execution_count": 29,
   "id": "b7a13aa8",
   "metadata": {},
   "outputs": [],
   "source": [
    "#filter for ip address over 60 hits in 1 hour\n",
    "suspicious_ip = (df.resample('h').ip.value_counts()) > 60"
   ]
  },
  {
   "cell_type": "code",
   "execution_count": 30,
   "id": "14a3f95f",
   "metadata": {},
   "outputs": [],
   "source": [
    "#filter for only True values\n",
    "suspicious_ip = suspicious_ip[suspicious_ip == True]"
   ]
  },
  {
   "cell_type": "code",
   "execution_count": 31,
   "id": "c73e5719",
   "metadata": {},
   "outputs": [
    {
     "data": {
      "text/html": [
       "<div>\n",
       "<style scoped>\n",
       "    .dataframe tbody tr th:only-of-type {\n",
       "        vertical-align: middle;\n",
       "    }\n",
       "\n",
       "    .dataframe tbody tr th {\n",
       "        vertical-align: top;\n",
       "    }\n",
       "\n",
       "    .dataframe thead th {\n",
       "        text-align: right;\n",
       "    }\n",
       "</style>\n",
       "<table border=\"1\" class=\"dataframe\">\n",
       "  <thead>\n",
       "    <tr style=\"text-align: right;\">\n",
       "      <th></th>\n",
       "      <th></th>\n",
       "      <th>ip</th>\n",
       "    </tr>\n",
       "    <tr>\n",
       "      <th>datetime</th>\n",
       "      <th>ip</th>\n",
       "      <th></th>\n",
       "    </tr>\n",
       "  </thead>\n",
       "  <tbody>\n",
       "    <tr>\n",
       "      <th>2018-01-26 10:00:00</th>\n",
       "      <th>97.105.19.61</th>\n",
       "      <td>True</td>\n",
       "    </tr>\n",
       "    <tr>\n",
       "      <th>2018-01-26 11:00:00</th>\n",
       "      <th>97.105.19.61</th>\n",
       "      <td>True</td>\n",
       "    </tr>\n",
       "    <tr>\n",
       "      <th>2018-01-29 09:00:00</th>\n",
       "      <th>97.105.19.61</th>\n",
       "      <td>True</td>\n",
       "    </tr>\n",
       "    <tr>\n",
       "      <th>2018-01-29 10:00:00</th>\n",
       "      <th>97.105.19.61</th>\n",
       "      <td>True</td>\n",
       "    </tr>\n",
       "    <tr>\n",
       "      <th>2018-01-29 11:00:00</th>\n",
       "      <th>97.105.19.61</th>\n",
       "      <td>True</td>\n",
       "    </tr>\n",
       "    <tr>\n",
       "      <th>...</th>\n",
       "      <th>...</th>\n",
       "      <td>...</td>\n",
       "    </tr>\n",
       "    <tr>\n",
       "      <th>2021-01-23 14:00:00</th>\n",
       "      <th>68.201.242.151</th>\n",
       "      <td>True</td>\n",
       "    </tr>\n",
       "    <tr>\n",
       "      <th>2021-02-02 14:00:00</th>\n",
       "      <th>76.198.205.14</th>\n",
       "      <td>True</td>\n",
       "    </tr>\n",
       "    <tr>\n",
       "      <th>2021-02-07 17:00:00</th>\n",
       "      <th>65.131.228.148</th>\n",
       "      <td>True</td>\n",
       "    </tr>\n",
       "    <tr>\n",
       "      <th>2021-03-08 15:00:00</th>\n",
       "      <th>67.11.211.115</th>\n",
       "      <td>True</td>\n",
       "    </tr>\n",
       "    <tr>\n",
       "      <th>2021-03-19 09:00:00</th>\n",
       "      <th>69.232.101.215</th>\n",
       "      <td>True</td>\n",
       "    </tr>\n",
       "  </tbody>\n",
       "</table>\n",
       "<p>2160 rows × 1 columns</p>\n",
       "</div>"
      ],
      "text/plain": [
       "                                      ip\n",
       "datetime            ip                  \n",
       "2018-01-26 10:00:00 97.105.19.61    True\n",
       "2018-01-26 11:00:00 97.105.19.61    True\n",
       "2018-01-29 09:00:00 97.105.19.61    True\n",
       "2018-01-29 10:00:00 97.105.19.61    True\n",
       "2018-01-29 11:00:00 97.105.19.61    True\n",
       "...                                  ...\n",
       "2021-01-23 14:00:00 68.201.242.151  True\n",
       "2021-02-02 14:00:00 76.198.205.14   True\n",
       "2021-02-07 17:00:00 65.131.228.148  True\n",
       "2021-03-08 15:00:00 67.11.211.115   True\n",
       "2021-03-19 09:00:00 69.232.101.215  True\n",
       "\n",
       "[2160 rows x 1 columns]"
      ]
     },
     "execution_count": 31,
     "metadata": {},
     "output_type": "execute_result"
    }
   ],
   "source": [
    "#make into data frame\n",
    "suspicious_ip = pd.DataFrame(suspicious_ip)\n",
    "suspicious_ip"
   ]
  },
  {
   "cell_type": "code",
   "execution_count": 32,
   "id": "7effe32f",
   "metadata": {},
   "outputs": [],
   "source": [
    "suspicious_ip.rename(columns = {'ip': 'sus_ip'},inplace = True)\n",
    "suspicious_ip = suspicious_ip.reset_index()"
   ]
  },
  {
   "cell_type": "code",
   "execution_count": 33,
   "id": "6c03bca0",
   "metadata": {},
   "outputs": [
    {
     "data": {
      "text/plain": [
       "97.105.19.58       1680\n",
       "97.105.19.61        396\n",
       "192.171.117.210      14\n",
       "172.124.67.93         6\n",
       "12.106.208.194        5\n",
       "72.128.136.219        5\n",
       "104.190.242.24        2\n",
       "99.98.36.168          2\n",
       "173.173.121.126       2\n",
       "136.50.20.17          2\n",
       "Name: ip, dtype: int64"
      ]
     },
     "execution_count": 33,
     "metadata": {},
     "output_type": "execute_result"
    }
   ],
   "source": [
    "suspicious_ip['ip'].value_counts().head(10)"
   ]
  },
  {
   "cell_type": "markdown",
   "id": "57c8b5c4",
   "metadata": {},
   "source": [
    "### There are 10 ip addresses that accessed over 60 hits within an hour more than one time\n",
    "    - The top 2 are registered to Codeup\n",
    "    - Six of them are located in various areas of San Antonio\n",
    "    - One is located in El Paso and one is located in Dallas\n",
    "  Excluding the Codeup ip addresses, it could be worthwhile to investigate further of these other ip addresses in why they are accessing so much material in a short period of time."
   ]
  },
  {
   "cell_type": "markdown",
   "id": "ac3ddad0",
   "metadata": {},
   "source": [
    "<hr style=\"border:1px solid black\"> </hr>\n"
   ]
  },
  {
   "cell_type": "markdown",
   "id": "592db870",
   "metadata": {},
   "source": [
    "## 5. At some point in 2019, the ability for students and alumni to access both curriculums (web dev to ds, ds to web dev) should have been shut off. Do you see any evidence of that happening? Did it happen before?"
   ]
  },
  {
   "cell_type": "code",
   "execution_count": 34,
   "id": "34afaaa4",
   "metadata": {},
   "outputs": [
    {
     "data": {
      "text/html": [
       "<div>\n",
       "<style scoped>\n",
       "    .dataframe tbody tr th:only-of-type {\n",
       "        vertical-align: middle;\n",
       "    }\n",
       "\n",
       "    .dataframe tbody tr th {\n",
       "        vertical-align: top;\n",
       "    }\n",
       "\n",
       "    .dataframe thead th {\n",
       "        text-align: right;\n",
       "    }\n",
       "</style>\n",
       "<table border=\"1\" class=\"dataframe\">\n",
       "  <thead>\n",
       "    <tr style=\"text-align: right;\">\n",
       "      <th></th>\n",
       "      <th>index</th>\n",
       "      <th>time</th>\n",
       "      <th>path</th>\n",
       "      <th>user_id</th>\n",
       "      <th>cohort_id</th>\n",
       "      <th>program_id</th>\n",
       "      <th>ip</th>\n",
       "      <th>name</th>\n",
       "      <th>start_date</th>\n",
       "      <th>end_date</th>\n",
       "      <th>created_at</th>\n",
       "      <th>program</th>\n",
       "      <th>url</th>\n",
       "      <th>subpath</th>\n",
       "      <th>counter</th>\n",
       "      <th>lesson</th>\n",
       "      <th>datetime</th>\n",
       "    </tr>\n",
       "    <tr>\n",
       "      <th>date</th>\n",
       "      <th></th>\n",
       "      <th></th>\n",
       "      <th></th>\n",
       "      <th></th>\n",
       "      <th></th>\n",
       "      <th></th>\n",
       "      <th></th>\n",
       "      <th></th>\n",
       "      <th></th>\n",
       "      <th></th>\n",
       "      <th></th>\n",
       "      <th></th>\n",
       "      <th></th>\n",
       "      <th></th>\n",
       "      <th></th>\n",
       "      <th></th>\n",
       "      <th></th>\n",
       "    </tr>\n",
       "  </thead>\n",
       "  <tbody>\n",
       "  </tbody>\n",
       "</table>\n",
       "</div>"
      ],
      "text/plain": [
       "Empty DataFrame\n",
       "Columns: [index, time, path, user_id, cohort_id, program_id, ip, name, start_date, end_date, created_at, program, url, subpath, counter, lesson, datetime]\n",
       "Index: []"
      ]
     },
     "execution_count": 34,
     "metadata": {},
     "output_type": "execute_result"
    }
   ],
   "source": [
    "# set datetime\n",
    "df_ds.date = pd.to_datetime(df_ds.date)\n",
    "#set index\n",
    "df_ds =df_ds.set_index('date')\n",
    "#locaiton of 2019\n",
    "ds_2019 = df_ds.loc['2019']\n",
    "### Looking at the last hits from data science at webdev material\n",
    "\n",
    "ds_2019_url = ds_2019[ds_2019.url == 'javascript-i']\n",
    "ds_2019_url.tail()"
   ]
  },
  {
   "cell_type": "code",
   "execution_count": 35,
   "id": "287d5b46",
   "metadata": {},
   "outputs": [
    {
     "data": {
      "text/plain": [
       "1-fundamentals                       2558\n",
       "4-python                             2181\n",
       "6-regression                         2106\n",
       "3-sql                                1910\n",
       "5-stats                              1678\n",
       "7-classification                     1556\n",
       "8-clustering                         1112\n",
       "11-nlp                                951\n",
       "9-timeseries                          946\n",
       "10-anomaly-detection                  910\n",
       "2-storytelling                        757\n",
       "12-distributed-ml                     429\n",
       "13-advanced-topics                     64\n",
       "mysql                                   3\n",
       "4-detecting-timeseries-anomalies        2\n",
       "bayes-python-assessment-4586.html       2\n",
       "end_to_end_clustering                   1\n",
       "End_to_End_clustering                   1\n",
       "5-detecting-with-clustering             1\n",
       "capstones                               1\n",
       "Name: url, dtype: int64"
      ]
     },
     "execution_count": 35,
     "metadata": {},
     "output_type": "execute_result"
    }
   ],
   "source": [
    "ds_2019.url.value_counts()"
   ]
  },
  {
   "cell_type": "code",
   "execution_count": 36,
   "id": "44cee25e",
   "metadata": {},
   "outputs": [
    {
     "data": {
      "text/html": [
       "<div>\n",
       "<style scoped>\n",
       "    .dataframe tbody tr th:only-of-type {\n",
       "        vertical-align: middle;\n",
       "    }\n",
       "\n",
       "    .dataframe tbody tr th {\n",
       "        vertical-align: top;\n",
       "    }\n",
       "\n",
       "    .dataframe thead th {\n",
       "        text-align: right;\n",
       "    }\n",
       "</style>\n",
       "<table border=\"1\" class=\"dataframe\">\n",
       "  <thead>\n",
       "    <tr style=\"text-align: right;\">\n",
       "      <th></th>\n",
       "      <th>index</th>\n",
       "      <th>time</th>\n",
       "      <th>path</th>\n",
       "      <th>user_id</th>\n",
       "      <th>cohort_id</th>\n",
       "      <th>program_id</th>\n",
       "      <th>ip</th>\n",
       "      <th>name</th>\n",
       "      <th>start_date</th>\n",
       "      <th>end_date</th>\n",
       "      <th>created_at</th>\n",
       "      <th>program</th>\n",
       "      <th>url</th>\n",
       "      <th>subpath</th>\n",
       "      <th>counter</th>\n",
       "      <th>lesson</th>\n",
       "      <th>datetime</th>\n",
       "    </tr>\n",
       "    <tr>\n",
       "      <th>date</th>\n",
       "      <th></th>\n",
       "      <th></th>\n",
       "      <th></th>\n",
       "      <th></th>\n",
       "      <th></th>\n",
       "      <th></th>\n",
       "      <th></th>\n",
       "      <th></th>\n",
       "      <th></th>\n",
       "      <th></th>\n",
       "      <th></th>\n",
       "      <th></th>\n",
       "      <th></th>\n",
       "      <th></th>\n",
       "      <th></th>\n",
       "      <th></th>\n",
       "      <th></th>\n",
       "    </tr>\n",
       "  </thead>\n",
       "  <tbody>\n",
       "    <tr>\n",
       "      <th>2019-11-12</th>\n",
       "      <td>367665</td>\n",
       "      <td>14:25:49</td>\n",
       "      <td>4-python/project</td>\n",
       "      <td>458</td>\n",
       "      <td>33.0</td>\n",
       "      <td>2</td>\n",
       "      <td>97.105.19.58</td>\n",
       "      <td>Ceres</td>\n",
       "      <td>2019-07-15</td>\n",
       "      <td>2017-05-25</td>\n",
       "      <td>2019-07-15 16:57:21</td>\n",
       "      <td>web_dev</td>\n",
       "      <td>4-python</td>\n",
       "      <td>[4-python, project]</td>\n",
       "      <td>1</td>\n",
       "      <td>pending</td>\n",
       "      <td>2019-11-12</td>\n",
       "    </tr>\n",
       "    <tr>\n",
       "      <th>2019-11-12</th>\n",
       "      <td>367666</td>\n",
       "      <td>14:25:52</td>\n",
       "      <td>4-python/3-data-types-and-variables</td>\n",
       "      <td>458</td>\n",
       "      <td>33.0</td>\n",
       "      <td>2</td>\n",
       "      <td>97.105.19.58</td>\n",
       "      <td>Ceres</td>\n",
       "      <td>2019-07-15</td>\n",
       "      <td>2017-05-25</td>\n",
       "      <td>2019-07-15 16:57:21</td>\n",
       "      <td>web_dev</td>\n",
       "      <td>4-python</td>\n",
       "      <td>[4-python, 3-data-types-and-variables]</td>\n",
       "      <td>1</td>\n",
       "      <td>pending</td>\n",
       "      <td>2019-11-12</td>\n",
       "    </tr>\n",
       "    <tr>\n",
       "      <th>2019-11-12</th>\n",
       "      <td>367667</td>\n",
       "      <td>14:26:01</td>\n",
       "      <td>4-python/4-control-structures</td>\n",
       "      <td>458</td>\n",
       "      <td>33.0</td>\n",
       "      <td>2</td>\n",
       "      <td>97.105.19.58</td>\n",
       "      <td>Ceres</td>\n",
       "      <td>2019-07-15</td>\n",
       "      <td>2017-05-25</td>\n",
       "      <td>2019-07-15 16:57:21</td>\n",
       "      <td>web_dev</td>\n",
       "      <td>4-python</td>\n",
       "      <td>[4-python, 4-control-structures]</td>\n",
       "      <td>1</td>\n",
       "      <td>pending</td>\n",
       "      <td>2019-11-12</td>\n",
       "    </tr>\n",
       "    <tr>\n",
       "      <th>2019-11-12</th>\n",
       "      <td>367668</td>\n",
       "      <td>14:26:30</td>\n",
       "      <td>4-python/5-functions</td>\n",
       "      <td>458</td>\n",
       "      <td>33.0</td>\n",
       "      <td>2</td>\n",
       "      <td>97.105.19.58</td>\n",
       "      <td>Ceres</td>\n",
       "      <td>2019-07-15</td>\n",
       "      <td>2017-05-25</td>\n",
       "      <td>2019-07-15 16:57:21</td>\n",
       "      <td>web_dev</td>\n",
       "      <td>4-python</td>\n",
       "      <td>[4-python, 5-functions]</td>\n",
       "      <td>1</td>\n",
       "      <td>pending</td>\n",
       "      <td>2019-11-12</td>\n",
       "    </tr>\n",
       "    <tr>\n",
       "      <th>2019-12-22</th>\n",
       "      <td>393928</td>\n",
       "      <td>19:45:47</td>\n",
       "      <td>4-python/intro-to-sklearn</td>\n",
       "      <td>18</td>\n",
       "      <td>22.0</td>\n",
       "      <td>2</td>\n",
       "      <td>45.20.117.182</td>\n",
       "      <td>Teddy</td>\n",
       "      <td>2018-01-08</td>\n",
       "      <td>2020-01-30</td>\n",
       "      <td>2018-01-08 13:59:10</td>\n",
       "      <td>web_dev</td>\n",
       "      <td>4-python</td>\n",
       "      <td>[4-python, intro-to-sklearn]</td>\n",
       "      <td>1</td>\n",
       "      <td>pending</td>\n",
       "      <td>2019-12-22</td>\n",
       "    </tr>\n",
       "  </tbody>\n",
       "</table>\n",
       "</div>"
      ],
      "text/plain": [
       "             index      time                                 path  user_id  \\\n",
       "date                                                                         \n",
       "2019-11-12  367665  14:25:49                     4-python/project      458   \n",
       "2019-11-12  367666  14:25:52  4-python/3-data-types-and-variables      458   \n",
       "2019-11-12  367667  14:26:01        4-python/4-control-structures      458   \n",
       "2019-11-12  367668  14:26:30                 4-python/5-functions      458   \n",
       "2019-12-22  393928  19:45:47            4-python/intro-to-sklearn       18   \n",
       "\n",
       "            cohort_id  program_id             ip   name  start_date  \\\n",
       "date                                                                  \n",
       "2019-11-12       33.0           2   97.105.19.58  Ceres  2019-07-15   \n",
       "2019-11-12       33.0           2   97.105.19.58  Ceres  2019-07-15   \n",
       "2019-11-12       33.0           2   97.105.19.58  Ceres  2019-07-15   \n",
       "2019-11-12       33.0           2   97.105.19.58  Ceres  2019-07-15   \n",
       "2019-12-22       22.0           2  45.20.117.182  Teddy  2018-01-08   \n",
       "\n",
       "             end_date           created_at  program       url  \\\n",
       "date                                                            \n",
       "2019-11-12 2017-05-25  2019-07-15 16:57:21  web_dev  4-python   \n",
       "2019-11-12 2017-05-25  2019-07-15 16:57:21  web_dev  4-python   \n",
       "2019-11-12 2017-05-25  2019-07-15 16:57:21  web_dev  4-python   \n",
       "2019-11-12 2017-05-25  2019-07-15 16:57:21  web_dev  4-python   \n",
       "2019-12-22 2020-01-30  2018-01-08 13:59:10  web_dev  4-python   \n",
       "\n",
       "                                           subpath  counter   lesson  \\\n",
       "date                                                                   \n",
       "2019-11-12                     [4-python, project]        1  pending   \n",
       "2019-11-12  [4-python, 3-data-types-and-variables]        1  pending   \n",
       "2019-11-12        [4-python, 4-control-structures]        1  pending   \n",
       "2019-11-12                 [4-python, 5-functions]        1  pending   \n",
       "2019-12-22            [4-python, intro-to-sklearn]        1  pending   \n",
       "\n",
       "             datetime  \n",
       "date                   \n",
       "2019-11-12 2019-11-12  \n",
       "2019-11-12 2019-11-12  \n",
       "2019-11-12 2019-11-12  \n",
       "2019-11-12 2019-11-12  \n",
       "2019-12-22 2019-12-22  "
      ]
     },
     "execution_count": 36,
     "metadata": {},
     "output_type": "execute_result"
    }
   ],
   "source": [
    "### Looking at the last hits from webdev at data science material\n",
    "\n",
    "df_wd.date = pd.to_datetime(df_wd.date)\n",
    "df_wd =df_wd.set_index('date')\n",
    "wd_2019 = df_wd.loc['2019']\n",
    "#12-22\n",
    "wd_2019_url = wd_2019[wd_2019.url == '4-python']\n",
    "wd_2019_url.tail()"
   ]
  },
  {
   "cell_type": "markdown",
   "id": "6c2e4c97",
   "metadata": {},
   "source": [
    "\n",
    "### The last access of a WD student accessing DS material was 12-22-19\n",
    "### The last access of a DS student accessing WD material was 12-14-19\n",
    "\n",
    "There is no determined cut off date for accessing the material until sometime in the last two weeks of 2019. There is also a few students who potentially could be scraping the material due to their access behavior."
   ]
  },
  {
   "cell_type": "markdown",
   "id": "1d5f7bd0",
   "metadata": {},
   "source": [
    "<hr style=\"border:1px solid black\"> </hr>\n"
   ]
  },
  {
   "cell_type": "markdown",
   "id": "834b8829",
   "metadata": {},
   "source": [
    "## 6. What topics are grads continuing to reference after graduation and into their jobs (for each program)?"
   ]
  },
  {
   "cell_type": "code",
   "execution_count": 20,
   "id": "d8e9be8f",
   "metadata": {
    "scrolled": true
   },
   "outputs": [],
   "source": [
    "# reset index\n",
    "df_ds =df_ds.reset_index()\n",
    "df_wd =df_wd.reset_index()\n",
    "\n",
    "# \n",
    "df_ds.date = pd.to_datetime(df_ds.date)\n",
    "df_wd.date = pd.to_datetime(df_wd.date)\n",
    "\n",
    "#datetime to end_date\n",
    "df_wd.end_date = pd.to_datetime(df.end_date)\n",
    "df_ds.end_date = pd.to_datetime(df.end_date)"
   ]
  },
  {
   "cell_type": "code",
   "execution_count": 21,
   "id": "320b750f",
   "metadata": {},
   "outputs": [],
   "source": [
    "df_wd['datetime'] = df_wd.date\n",
    "df_wd['datetime'] = pd.to_datetime(df_wd['datetime'])"
   ]
  },
  {
   "cell_type": "code",
   "execution_count": 22,
   "id": "03981fb9",
   "metadata": {
    "scrolled": true
   },
   "outputs": [],
   "source": [
    "df_wd['datetime'] = df_wd.date\n",
    "df_wd['datetime'] = pd.to_datetime(df_wd['datetime'])\n",
    "\n",
    "df_ds['datetime'] = df_ds.date\n",
    "df_ds['datetime'] = pd.to_datetime(df_ds['datetime'])"
   ]
  },
  {
   "cell_type": "code",
   "execution_count": 23,
   "id": "034f4a42",
   "metadata": {},
   "outputs": [],
   "source": [
    "#making a dataframe for each \n",
    "wd_diff_time = df_wd[df_wd.date > df_wd.end_date][['path', 'user_id', 'end_date', 'datetime', 'url', 'lesson']]\n",
    "ds_diff_time = df_ds[df_ds.date > df_ds.end_date][['path', 'user_id', 'end_date', 'datetime', 'url', 'lesson']]"
   ]
  },
  {
   "cell_type": "code",
   "execution_count": 24,
   "id": "088942c9",
   "metadata": {},
   "outputs": [
    {
     "data": {
      "text/html": [
       "<div>\n",
       "<style scoped>\n",
       "    .dataframe tbody tr th:only-of-type {\n",
       "        vertical-align: middle;\n",
       "    }\n",
       "\n",
       "    .dataframe tbody tr th {\n",
       "        vertical-align: top;\n",
       "    }\n",
       "\n",
       "    .dataframe thead th {\n",
       "        text-align: right;\n",
       "    }\n",
       "</style>\n",
       "<table border=\"1\" class=\"dataframe\">\n",
       "  <thead>\n",
       "    <tr style=\"text-align: right;\">\n",
       "      <th></th>\n",
       "      <th>lesson</th>\n",
       "    </tr>\n",
       "  </thead>\n",
       "  <tbody>\n",
       "    <tr>\n",
       "      <th>fundamentals</th>\n",
       "      <td>16691</td>\n",
       "    </tr>\n",
       "    <tr>\n",
       "      <th>sql</th>\n",
       "      <td>13685</td>\n",
       "    </tr>\n",
       "    <tr>\n",
       "      <th>classification</th>\n",
       "      <td>11841</td>\n",
       "    </tr>\n",
       "    <tr>\n",
       "      <th>python</th>\n",
       "      <td>10492</td>\n",
       "    </tr>\n",
       "    <tr>\n",
       "      <th>regression</th>\n",
       "      <td>7471</td>\n",
       "    </tr>\n",
       "  </tbody>\n",
       "</table>\n",
       "</div>"
      ],
      "text/plain": [
       "                lesson\n",
       "fundamentals     16691\n",
       "sql              13685\n",
       "classification   11841\n",
       "python           10492\n",
       "regression        7471"
      ]
     },
     "execution_count": 24,
     "metadata": {},
     "output_type": "execute_result"
    }
   ],
   "source": [
    "# top lessons Data Science alumni reference\n",
    "pd.DataFrame(ds_diff_time['lesson'].value_counts(ascending = False)).head(5)\n"
   ]
  },
  {
   "cell_type": "code",
   "execution_count": 25,
   "id": "55566570",
   "metadata": {},
   "outputs": [
    {
     "data": {
      "text/html": [
       "<div>\n",
       "<style scoped>\n",
       "    .dataframe tbody tr th:only-of-type {\n",
       "        vertical-align: middle;\n",
       "    }\n",
       "\n",
       "    .dataframe tbody tr th {\n",
       "        vertical-align: top;\n",
       "    }\n",
       "\n",
       "    .dataframe thead th {\n",
       "        text-align: right;\n",
       "    }\n",
       "</style>\n",
       "<table border=\"1\" class=\"dataframe\">\n",
       "  <thead>\n",
       "    <tr style=\"text-align: right;\">\n",
       "      <th></th>\n",
       "      <th>lesson</th>\n",
       "    </tr>\n",
       "  </thead>\n",
       "  <tbody>\n",
       "    <tr>\n",
       "      <th>javascript</th>\n",
       "      <td>54688</td>\n",
       "    </tr>\n",
       "    <tr>\n",
       "      <th>java</th>\n",
       "      <td>51500</td>\n",
       "    </tr>\n",
       "    <tr>\n",
       "      <th>html-css</th>\n",
       "      <td>35837</td>\n",
       "    </tr>\n",
       "    <tr>\n",
       "      <th>mysql</th>\n",
       "      <td>25791</td>\n",
       "    </tr>\n",
       "    <tr>\n",
       "      <th>pending</th>\n",
       "      <td>23430</td>\n",
       "    </tr>\n",
       "    <tr>\n",
       "      <th>spring</th>\n",
       "      <td>20698</td>\n",
       "    </tr>\n",
       "  </tbody>\n",
       "</table>\n",
       "</div>"
      ],
      "text/plain": [
       "            lesson\n",
       "javascript   54688\n",
       "java         51500\n",
       "html-css     35837\n",
       "mysql        25791\n",
       "pending      23430\n",
       "spring       20698"
      ]
     },
     "execution_count": 25,
     "metadata": {},
     "output_type": "execute_result"
    }
   ],
   "source": [
    "# top lessons Web Dev alumni reference\n",
    "pd.DataFrame(wd_diff_time['lesson'].value_counts(ascending = False)).head(6)"
   ]
  },
  {
   "cell_type": "markdown",
   "id": "187a2739",
   "metadata": {},
   "source": [
    "## 5 Most Popular Lessons for Data Science Graduates Referencing\n",
    "- fundamentals\n",
    "- sql\n",
    "- classification\n",
    "- python\n",
    "- regression\n",
    "\n",
    "## 5 Most Popular Lessons for Web Dev Graduates Referencing\n",
    "- javascript\n",
    "- java\n",
    "- html-css\n",
    "- mysql\n",
    "- spring"
   ]
  },
  {
   "cell_type": "markdown",
   "id": "800db248",
   "metadata": {},
   "source": [
    "<hr style=\"border:1px solid black\"> </hr>\n"
   ]
  },
  {
   "cell_type": "markdown",
   "id": "97efad3c",
   "metadata": {},
   "source": [
    "## 7. Which lessons are least accessed?"
   ]
  },
  {
   "cell_type": "code",
   "execution_count": 37,
   "id": "89b28738",
   "metadata": {},
   "outputs": [
    {
     "data": {
      "text/html": [
       "<div>\n",
       "<style scoped>\n",
       "    .dataframe tbody tr th:only-of-type {\n",
       "        vertical-align: middle;\n",
       "    }\n",
       "\n",
       "    .dataframe tbody tr th {\n",
       "        vertical-align: top;\n",
       "    }\n",
       "\n",
       "    .dataframe thead th {\n",
       "        text-align: right;\n",
       "    }\n",
       "</style>\n",
       "<table border=\"1\" class=\"dataframe\">\n",
       "  <thead>\n",
       "    <tr style=\"text-align: right;\">\n",
       "      <th></th>\n",
       "      <th>user_id</th>\n",
       "    </tr>\n",
       "    <tr>\n",
       "      <th>lesson</th>\n",
       "      <th></th>\n",
       "    </tr>\n",
       "  </thead>\n",
       "  <tbody>\n",
       "    <tr>\n",
       "      <th>clustering</th>\n",
       "      <td>4277</td>\n",
       "    </tr>\n",
       "    <tr>\n",
       "      <th>time_series</th>\n",
       "      <td>3317</td>\n",
       "    </tr>\n",
       "    <tr>\n",
       "      <th>storytelling</th>\n",
       "      <td>3312</td>\n",
       "    </tr>\n",
       "    <tr>\n",
       "      <th>nlp</th>\n",
       "      <td>3208</td>\n",
       "    </tr>\n",
       "    <tr>\n",
       "      <th>distributed_ml</th>\n",
       "      <td>1654</td>\n",
       "    </tr>\n",
       "    <tr>\n",
       "      <th>advanced-topics</th>\n",
       "      <td>1278</td>\n",
       "    </tr>\n",
       "    <tr>\n",
       "      <th>capstones</th>\n",
       "      <td>63</td>\n",
       "    </tr>\n",
       "  </tbody>\n",
       "</table>\n",
       "</div>"
      ],
      "text/plain": [
       "                 user_id\n",
       "lesson                  \n",
       "clustering          4277\n",
       "time_series         3317\n",
       "storytelling        3312\n",
       "nlp                 3208\n",
       "distributed_ml      1654\n",
       "advanced-topics     1278\n",
       "capstones             63"
      ]
     },
     "execution_count": 37,
     "metadata": {},
     "output_type": "execute_result"
    }
   ],
   "source": [
    "# DS Lessons count from bottom\n",
    "df_ds.groupby('lesson')[['user_id']].agg('count').sort_values(by='user_id', ascending=False).tail(7)"
   ]
  },
  {
   "cell_type": "code",
   "execution_count": 38,
   "id": "eed83d73",
   "metadata": {},
   "outputs": [
    {
     "data": {
      "text/html": [
       "<div>\n",
       "<style scoped>\n",
       "    .dataframe tbody tr th:only-of-type {\n",
       "        vertical-align: middle;\n",
       "    }\n",
       "\n",
       "    .dataframe tbody tr th {\n",
       "        vertical-align: top;\n",
       "    }\n",
       "\n",
       "    .dataframe thead th {\n",
       "        text-align: right;\n",
       "    }\n",
       "</style>\n",
       "<table border=\"1\" class=\"dataframe\">\n",
       "  <thead>\n",
       "    <tr style=\"text-align: right;\">\n",
       "      <th></th>\n",
       "      <th>user_id</th>\n",
       "    </tr>\n",
       "    <tr>\n",
       "      <th>lesson</th>\n",
       "      <th></th>\n",
       "    </tr>\n",
       "  </thead>\n",
       "  <tbody>\n",
       "    <tr>\n",
       "      <th>jquery</th>\n",
       "      <td>50290</td>\n",
       "    </tr>\n",
       "    <tr>\n",
       "      <th>toc</th>\n",
       "      <td>16669</td>\n",
       "    </tr>\n",
       "    <tr>\n",
       "      <th>search</th>\n",
       "      <td>16000</td>\n",
       "    </tr>\n",
       "    <tr>\n",
       "      <th>capstone</th>\n",
       "      <td>4834</td>\n",
       "    </tr>\n",
       "    <tr>\n",
       "      <th>index</th>\n",
       "      <td>3587</td>\n",
       "    </tr>\n",
       "    <tr>\n",
       "      <th>structure</th>\n",
       "      <td>2900</td>\n",
       "    </tr>\n",
       "    <tr>\n",
       "      <th>php</th>\n",
       "      <td>2085</td>\n",
       "    </tr>\n",
       "    <tr>\n",
       "      <th>fundamentals</th>\n",
       "      <td>237</td>\n",
       "    </tr>\n",
       "  </tbody>\n",
       "</table>\n",
       "</div>"
      ],
      "text/plain": [
       "              user_id\n",
       "lesson               \n",
       "jquery          50290\n",
       "toc             16669\n",
       "search          16000\n",
       "capstone         4834\n",
       "index            3587\n",
       "structure        2900\n",
       "php              2085\n",
       "fundamentals      237"
      ]
     },
     "execution_count": 38,
     "metadata": {},
     "output_type": "execute_result"
    }
   ],
   "source": [
    "# see counts for web dev lessons from bottom\n",
    "df_wd.groupby('lesson')[['user_id']].agg('count').sort_values(by='user_id', ascending=False).tail(8)"
   ]
  },
  {
   "cell_type": "markdown",
   "id": "a179aa65",
   "metadata": {},
   "source": [
    "## 5 Least Popular Lessons for Data Science\n",
    "- advancted topics\n",
    "- distributed_ml\n",
    "- nlp\n",
    "- storytelling\n",
    "- time_series\n",
    "\n",
    "## 5 Least Popular Lessons for Web Dev\n",
    "- fundamentals\n",
    "- php\n",
    "- structure\n",
    "- capstone\n",
    "- jquery"
   ]
  }
 ],
 "metadata": {
  "kernelspec": {
   "display_name": "Python 3",
   "language": "python",
   "name": "python3"
  },
  "language_info": {
   "codemirror_mode": {
    "name": "ipython",
    "version": 3
   },
   "file_extension": ".py",
   "mimetype": "text/x-python",
   "name": "python",
   "nbconvert_exporter": "python",
   "pygments_lexer": "ipython3",
   "version": "3.8.8"
  }
 },
 "nbformat": 4,
 "nbformat_minor": 5
}
